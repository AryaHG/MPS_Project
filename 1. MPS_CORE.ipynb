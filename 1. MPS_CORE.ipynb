{
 "cells": [
  {
   "cell_type": "markdown",
   "metadata": {},
   "source": [
    "#MPS "
   ]
  },
  {
   "cell_type": "markdown",
   "metadata": {},
   "source": [
    "# THE MPS CALCULATOR"
   ]
  },
  {
   "cell_type": "code",
   "execution_count": 8,
   "metadata": {},
   "outputs": [
    {
     "name": "stderr",
     "output_type": "stream",
     "text": [
      "\u001b[32m\u001b[1m   Resolving\u001b[22m\u001b[39m package versions...\n",
      "\u001b[32m\u001b[1m  No Changes\u001b[22m\u001b[39m to `~/.julia/environments/v1.11/Project.toml`\n",
      "\u001b[32m\u001b[1m  No Changes\u001b[22m\u001b[39m to `~/.julia/environments/v1.11/Manifest.toml`\n",
      "\u001b[32m\u001b[1m   Resolving\u001b[22m\u001b[39m package versions...\n",
      "\u001b[32m\u001b[1m  No Changes\u001b[22m\u001b[39m to `~/.julia/environments/v1.11/Project.toml`\n",
      "\u001b[32m\u001b[1m  No Changes\u001b[22m\u001b[39m to `~/.julia/environments/v1.11/Manifest.toml`\n",
      "\u001b[32m\u001b[1m    Updating\u001b[22m\u001b[39m registry at `~/.julia/registries/General.toml`\n",
      "\u001b[32m\u001b[1m   Installed\u001b[22m\u001b[39m ITensors ─ v0.9.14\n",
      "\u001b[32m\u001b[1m    Updating\u001b[22m\u001b[39m `~/.julia/environments/v1.11/Project.toml`\n",
      "  \u001b[90m[9136182c] \u001b[39m\u001b[93m↑ ITensors v0.9.8 ⇒ v0.9.14\u001b[39m\n",
      "\u001b[32m\u001b[1m    Updating\u001b[22m\u001b[39m `~/.julia/environments/v1.11/Manifest.toml`\n",
      "  \u001b[90m[9136182c] \u001b[39m\u001b[93m↑ ITensors v0.9.8 ⇒ v0.9.14\u001b[39m\n",
      "\u001b[92m\u001b[1mPrecompiling\u001b[22m\u001b[39m project...\n",
      "  13378.5 ms\u001b[33m  ✓ \u001b[39mITensors\n",
      "   8020.2 ms\u001b[32m  ✓ \u001b[39mITensors → ITensorsVectorInterfaceExt\n",
      "   9780.6 ms\u001b[32m  ✓ \u001b[39mITensors → ITensorsTensorOperationsExt\n",
      "  12691.9 ms\u001b[32m  ✓ \u001b[39mITensorMPS\n",
      "   7410.8 ms\u001b[32m  ✓ \u001b[39mITensorMPS → ITensorMPSChainRulesCoreExt\n",
      "  14718.9 ms\u001b[32m  ✓ \u001b[39mITensorVisualizationBase\n",
      "  12290.2 ms\u001b[32m  ✓ \u001b[39mITensorUnicodePlots\n",
      "  29616.6 ms\u001b[32m  ✓ \u001b[39m\u001b[90mITensorMakie\u001b[39m\n",
      "  16067.6 ms\u001b[32m  ✓ \u001b[39mITensorGLMakie\n",
      "  9 dependencies successfully precompiled in 105 seconds. 492 already precompiled.\n",
      "  \u001b[33m1\u001b[39m dependency precompiled but a different version is currently loaded. Restart julia to access the new version. Otherwise, loading dependents of this package may trigger further precompilation to work with the unexpected version.\n",
      "\u001b[36m\u001b[1m        Info\u001b[22m\u001b[39m We haven't cleaned this depot up for a bit, running Pkg.gc()...\n",
      "\u001b[32m\u001b[1m      Active\u001b[22m\u001b[39m manifest files: 2 found\n",
      "\u001b[32m\u001b[1m      Active\u001b[22m\u001b[39m artifact files: 97 found\n",
      "\u001b[32m\u001b[1m      Active\u001b[22m\u001b[39m scratchspaces: 4 found\n",
      "\u001b[32m\u001b[1m     Deleted\u001b[22m\u001b[39m no artifacts, repos, packages or scratchspaces\n"
     ]
    }
   ],
   "source": [
    "using Pkg\n",
    "Pkg.add(\"ITensors\")\n",
    "Pkg.add(\"ITensorMPS\")\n",
    "Pkg.update(\"ITensors\")"
   ]
  },
  {
   "cell_type": "code",
   "execution_count": 6,
   "metadata": {},
   "outputs": [
    {
     "data": {
      "text/plain": [
       "\"/Users/arya/Documents/Python/DATA/\""
      ]
     },
     "metadata": {},
     "output_type": "display_data"
    }
   ],
   "source": [
    "dir = \"/Users/arya/Documents/Python/DATA/\""
   ]
  },
  {
   "cell_type": "code",
   "execution_count": 9,
   "metadata": {},
   "outputs": [
    {
     "data": {
      "text/plain": [
       "mps_function (generic function with 1 method)"
      ]
     },
     "metadata": {},
     "output_type": "display_data"
    }
   ],
   "source": [
    "using LinearAlgebra\n",
    "using Plots: plot, savefig\n",
    "\n",
    "\n",
    "\n",
    "\n",
    "function mps_function(psi::Vector{ComplexF64}, cutoff::Float64)\n",
    "    n = round(Int, log2(length(psi)))  # Number of qubits\n",
    "    @assert 2^n == length(psi) \"Length of psi must be a power of 2\"\n",
    "\n",
    "    mps = []\n",
    "    D_prev = 1 # Initial bond dimension\n",
    "\n",
    "    for k in 1:n-1\n",
    "        d_left = D_prev\n",
    "        d_phys = 2 # Physical dimension (2 for qubits)\n",
    "        d_right = length(psi) ÷ (d_left * d_phys)\n",
    "\n",
    "        psi_matrix = reshape(psi, (d_left * d_phys, d_right))\n",
    "        U, S, V = svd(psi_matrix)\n",
    "        \n",
    "       \n",
    "      \n",
    "        if k == ceil(Int, n/2)\n",
    "            global middle_singular_values = copy(S)\n",
    "            plt = plot(\n",
    "                S,\n",
    "                marker = :circle,\n",
    "                xlabel = \"Number of Singular Values\",\n",
    "                ylabel = \"Singular Values\",\n",
    "                title = \"Singular Values at Step $k (Middle Site)\",\n",
    "                yscale = :log10,\n",
    "                ylims = (1e-25, 1e5),\n",
    "                #yformatter = y -> @sprintf(\"%.5e\", y),   # <--- show 2 decimal digits in scientific notation\n",
    "                legend = false\n",
    "            )\n",
    "            savefig(plt, dir * \"singular_values_plot(FGS).pdf\")\n",
    "        end\n",
    "\n",
    "        \n",
    "\n",
    "        # Find how many singular values are above cutoff\n",
    "        r = count(s -> abs(s) > cutoff, S)\n",
    "        if r == 0\n",
    "            error(\"All singular values below cutoff at step $k — increase cutoff or check state\")\n",
    "        end\n",
    "\n",
    "        # Truncate U, S, V to rank r  (non zero singular values)\n",
    "        U_trunc = U[:, 1:r]\n",
    "        S_trunc = S[1:r]\n",
    "        V_trunc = V[:, 1:r]\n",
    "\n",
    "        A = reshape(U_trunc, d_left, d_phys, r)\n",
    "        push!(mps, A)\n",
    "\n",
    "        psi = Diagonal(S_trunc) * V_trunc'\n",
    "        D_prev = r\n",
    "    end\n",
    "\n",
    "    # Final tensor\n",
    "    A_last = reshape(psi, D_prev, 2, 1)\n",
    "    push!(mps, A_last)\n",
    "\n",
    "    return mps\n",
    "end\n",
    "\n"
   ]
  },
  {
   "cell_type": "markdown",
   "metadata": {},
   "source": [
    "# READING COMPLEX TEXT FILE (2 Functions) "
   ]
  },
  {
   "cell_type": "code",
   "execution_count": 2,
   "metadata": {},
   "outputs": [
    {
     "data": {
      "text/plain": [
       "load_complex_vector_from_txt (generic function with 1 method)"
      ]
     },
     "metadata": {},
     "output_type": "display_data"
    }
   ],
   "source": [
    "function load_complex_vector_from_txt(filename::String)\n",
    "    psi = ComplexF64[]\n",
    "    open(filename, \"r\") do file\n",
    "        for line in eachline(file)\n",
    "            s = replace(line, \"im\" => \"\")  # remove \"im\"\n",
    "            parts = split(s, \"+\")\n",
    "            if length(parts) == 2\n",
    "                real_part = parse(Float64, strip(parts[1]))\n",
    "                imag_part = parse(Float64, strip(parts[2]))\n",
    "                push!(psi, ComplexF64(real_part, imag_part))\n",
    "            end\n",
    "        end\n",
    "    end\n",
    "    return psi\n",
    "end"
   ]
  },
  {
   "cell_type": "code",
   "execution_count": 3,
   "metadata": {},
   "outputs": [
    {
     "data": {
      "text/plain": [
       "load_complex_vector_from_txt_2 (generic function with 1 method)"
      ]
     },
     "metadata": {},
     "output_type": "display_data"
    }
   ],
   "source": [
    "function load_complex_vector_from_txt_2(filename::String)\n",
    "    psi = ComplexF64[]\n",
    "    open(filename, \"r\") do file\n",
    "        for line in eachline(file)\n",
    "            # Remove \"im\" and index number\n",
    "            parts = split(strip(line), r\"\\s+\")\n",
    "            if length(parts) >= 4\n",
    "                real_str = parts[1+1]  # after the index\n",
    "                sign = parts[2+1]      # '+' or '-'\n",
    "                imag_str = parts[3+1]\n",
    "\n",
    "                real_part = parse(Float64, real_str)\n",
    "                imag_part = parse(Float64, imag_str)\n",
    "                imag_part *= (sign == \"+\" ? 1 : -1)\n",
    "\n",
    "                push!(psi, ComplexF64(real_part, imag_part))\n",
    "            end\n",
    "        end\n",
    "    end\n",
    "    return psi\n",
    "end"
   ]
  },
  {
   "cell_type": "markdown",
   "metadata": {},
   "source": [
    "# APLLYING THE MPS CALCULATER ON DIFFERENT STATEVECTORS"
   ]
  },
  {
   "cell_type": "code",
   "execution_count": 11,
   "metadata": {},
   "outputs": [
    {
     "name": "stdout",
     "output_type": "stream",
     "text": [
      "A[1] shape: (1, 2, 2)\n",
      "A[2] shape: (2, 2, 4)\n",
      "A[3] shape: (4, 2, 8)\n",
      "A[4] shape: (8, 2, 16)\n",
      "A[5] shape: (16, 2, 32)\n",
      "A[6] shape: (32, 2, 16)\n",
      "A[7] shape: (16, 2, 8)\n",
      "A[8] shape: (8, 2, 4)\n",
      "A[9] shape: (4, 2, 2)\n",
      "A[10] shape: (2, 2, 1)\n"
     ]
    }
   ],
   "source": [
    "psi = load_complex_vector_from_txt(dir * \"cl.txt\")\n",
    "MPS = mps_function(psi, 1e-8)\n",
    "for (i, A) in enumerate(MPS)\n",
    "    println(\"A[$i] shape: \", size(A))\n",
    "end"
   ]
  },
  {
   "cell_type": "markdown",
   "metadata": {},
   "source": [
    "## Renyi Entropy"
   ]
  },
  {
   "cell_type": "code",
   "execution_count": 12,
   "metadata": {},
   "outputs": [
    {
     "data": {
      "text/plain": [
       "renyi_entropies (generic function with 1 method)"
      ]
     },
     "metadata": {},
     "output_type": "display_data"
    }
   ],
   "source": [
    "function renyi_entropies(S::AbstractVector)\n",
    "    p = S.^2\n",
    "    p ./= sum(p)\n",
    "    Ren_En = zeros(Float64, 10)\n",
    "    #Van Neumann Entropy\n",
    "    Ren_En[1] = -sum(pi == 0 ? 0.0 : pi * log(pi) for pi in p)          #Note to myself: Ternary Operator\n",
    "    #Renyi Entropies\n",
    "    for n in 2:10\n",
    "        Ren_En[n] = (1 / (1 - n)) * log(sum(p .^ n))\n",
    "    end\n",
    "\n",
    "    return Ren_En\n",
    "end"
   ]
  },
  {
   "cell_type": "markdown",
   "metadata": {},
   "source": [
    "#### Checking the singular values"
   ]
  },
  {
   "cell_type": "code",
   "execution_count": 13,
   "metadata": {},
   "outputs": [
    {
     "data": {
      "text/plain": [
       "32-element Vector{Float64}:\n",
       " 0.1767760000000001\n",
       " 0.1767760000000001\n",
       " 0.1767760000000001\n",
       " 0.17677600000000007\n",
       " 0.17677600000000007\n",
       " 0.17677600000000007\n",
       " 0.17677600000000007\n",
       " 0.17677600000000007\n",
       " 0.17677600000000007\n",
       " 0.17677600000000007\n",
       " ⋮\n",
       " 0.176776\n",
       " 0.176776\n",
       " 0.176776\n",
       " 0.176776\n",
       " 0.17677599999999996\n",
       " 0.17677599999999996\n",
       " 0.17677599999999996\n",
       " 0.17677599999999993\n",
       " 0.1767759999999999"
      ]
     },
     "metadata": {},
     "output_type": "display_data"
    }
   ],
   "source": [
    "middle_singular_values"
   ]
  },
  {
   "cell_type": "markdown",
   "metadata": {},
   "source": [
    "#### Renyi Entropy of Haar random (2-10)"
   ]
  },
  {
   "cell_type": "code",
   "execution_count": 14,
   "metadata": {},
   "outputs": [
    {
     "data": {
      "text/plain": [
       "10-element Vector{Float64}:\n",
       " 3.465735902799726\n",
       " 3.4657359027997257\n",
       " 3.4657359027997257\n",
       " 3.4657359027997257\n",
       " 3.465735902799726\n",
       " 3.465735902799726\n",
       " 3.4657359027997257\n",
       " 3.4657359027997257\n",
       " 3.4657359027997257\n",
       " 3.4657359027997257"
      ]
     },
     "metadata": {},
     "output_type": "display_data"
    }
   ],
   "source": [
    "E1 = renyi_entropies(middle_singular_values)"
   ]
  },
  {
   "cell_type": "markdown",
   "metadata": {},
   "source": [
    "#### Renyi Entropy of Stablizer (2-10)"
   ]
  },
  {
   "cell_type": "code",
   "execution_count": 15,
   "metadata": {},
   "outputs": [
    {
     "data": {
      "text/plain": [
       "10-element Vector{Float64}:\n",
       " 3.465735902799726\n",
       " 3.4657359027997257\n",
       " 3.4657359027997257\n",
       " 3.4657359027997257\n",
       " 3.465735902799726\n",
       " 3.465735902799726\n",
       " 3.4657359027997257\n",
       " 3.4657359027997257\n",
       " 3.4657359027997257\n",
       " 3.4657359027997257"
      ]
     },
     "metadata": {},
     "output_type": "display_data"
    }
   ],
   "source": [
    "#Clifford_10_4\n",
    "E2 = renyi_entropies(middle_singular_values)\n"
   ]
  },
  {
   "cell_type": "markdown",
   "metadata": {},
   "source": [
    "# SERs"
   ]
  },
  {
   "cell_type": "markdown",
   "metadata": {},
   "source": [
    "### Building the Pauli Strings"
   ]
  },
  {
   "cell_type": "code",
   "execution_count": 2,
   "metadata": {},
   "outputs": [
    {
     "data": {
      "text/plain": [
       "1024-element Vector{String}:\n",
       " \"IIIIIIIIII\"\n",
       " \"-XYZIYXIIIY\"\n",
       " \"-XIXYYIYXXZ\"\n",
       " \"-IYYYIXYXXX\"\n",
       " \"XXZIXIIZYI\"\n",
       " \"IZIIZXIZYY\"\n",
       " \"IXYYZIYYZZ\"\n",
       " \"-XZXYXXYYZX\"\n",
       " \"XIYZYXYXXZ\"\n",
       " \"-IYXZIIYXXX\"\n",
       " ⋮\n",
       " \"XZXIIYYXXZ\"\n",
       " \"-XIYXZYYYZX\"\n",
       " \"IYXXXZYYZZ\"\n",
       " \"-IIZZXYIZYY\"\n",
       " \"XYIZZZIZYI\"\n",
       " \"IXXXYYYXXX\"\n",
       " \"-XZYXIZYXXZ\"\n",
       " \"-XXIZIYIIIY\"\n",
       " \"IZZZYZIIII\""
      ]
     },
     "metadata": {},
     "output_type": "display_data"
    }
   ],
   "source": [
    "labels = readlines(\"/Users/arya/Documents/Python/DATA/P_labels.txt\")"
   ]
  },
  {
   "cell_type": "code",
   "execution_count": 8,
   "metadata": {},
   "outputs": [
    {
     "data": {
      "text/plain": [
       "pauli_to_mpo (generic function with 1 method)"
      ]
     },
     "metadata": {},
     "output_type": "display_data"
    }
   ],
   "source": [
    "using LinearAlgebra\n",
    "\n",
    "#defining Pauli Matrices\n",
    "s_x = ComplexF64[0 1; 1 0]\n",
    "s_y = ComplexF64[0 -im; im 0]\n",
    "s_z = ComplexF64[1 0; 0 -1]\n",
    "s_i = Matrix{ComplexF64}(I, 2, 2)\n",
    "\n",
    "# Map labels to matrices\n",
    "if !@isdefined pauli_map\n",
    "    const pauli_map = Dict{Char, Matrix{ComplexF64}}('X'=>s_x, 'Y'=>s_y, 'Z'=>s_z, 'I'=>s_i)  \n",
    "end \n",
    "\n",
    "\n",
    "function pauli_to_mpo(label::String)\n",
    "    s = strip(label)\n",
    "    coef = startswith(s, '-') ? (s = s[2:end]; -1.0) : 1.0\n",
    "    mpo = [reshape(pauli_map[c], 1,1,2,2) for c in s]  # convert Char→String\n",
    "    mpo[1] .*= coef\n",
    "    return mpo\n",
    "end\n",
    "\n"
   ]
  },
  {
   "cell_type": "code",
   "execution_count": 9,
   "metadata": {},
   "outputs": [
    {
     "data": {
      "text/plain": [
       "10-element Vector{Array{ComplexF64, 4}}:\n",
       " [1.0 + 0.0im;;; 0.0 + 0.0im;;;; 0.0 + 0.0im;;; 1.0 + 0.0im]\n",
       " [1.0 + 0.0im;;; 0.0 + 0.0im;;;; 0.0 + 0.0im;;; 1.0 + 0.0im]\n",
       " [1.0 + 0.0im;;; 0.0 + 0.0im;;;; 0.0 + 0.0im;;; 1.0 + 0.0im]\n",
       " [1.0 + 0.0im;;; 0.0 + 0.0im;;;; 0.0 + 0.0im;;; 1.0 + 0.0im]\n",
       " [1.0 + 0.0im;;; 0.0 + 0.0im;;;; 0.0 + 0.0im;;; 1.0 + 0.0im]\n",
       " [1.0 + 0.0im;;; 0.0 + 0.0im;;;; 0.0 + 0.0im;;; 1.0 + 0.0im]\n",
       " [1.0 + 0.0im;;; 0.0 + 0.0im;;;; 0.0 + 0.0im;;; 1.0 + 0.0im]\n",
       " [1.0 + 0.0im;;; 0.0 + 0.0im;;;; 0.0 + 0.0im;;; 1.0 + 0.0im]\n",
       " [1.0 + 0.0im;;; 0.0 + 0.0im;;;; 0.0 + 0.0im;;; 1.0 + 0.0im]\n",
       " [1.0 + 0.0im;;; 0.0 + 0.0im;;;; 0.0 + 0.0im;;; 1.0 + 0.0im]"
      ]
     },
     "metadata": {},
     "output_type": "display_data"
    }
   ],
   "source": [
    "mpo = pauli_to_mpo(labels[1])"
   ]
  },
  {
   "cell_type": "code",
   "execution_count": 47,
   "metadata": {},
   "outputs": [
    {
     "ename": "InexactError",
     "evalue": "InexactError: Bool(-1.0)",
     "output_type": "error",
     "traceback": [
      "InexactError: Bool(-1.0)\n",
      "\n",
      "Stacktrace:\n",
      "  [1] Bool\n",
      "    @ ./float.jl:251 [inlined]\n",
      "  [2] convert\n",
      "    @ ./number.jl:7 [inlined]\n",
      "  [3] setindex!\n",
      "    @ ./array.jl:994 [inlined]\n",
      "  [4] setindex!\n",
      "    @ ./multidimensional.jl:704 [inlined]\n",
      "  [5] macro expansion\n",
      "    @ ./broadcast.jl:973 [inlined]\n",
      "  [6] macro expansion\n",
      "    @ ./simdloop.jl:77 [inlined]\n",
      "  [7] copyto!\n",
      "    @ ./broadcast.jl:972 [inlined]\n",
      "  [8] copyto!\n",
      "    @ ./broadcast.jl:925 [inlined]\n",
      "  [9] materialize!\n",
      "    @ ./broadcast.jl:883 [inlined]\n",
      " [10] materialize!(dest::Array{Bool, 4}, bc::Base.Broadcast.Broadcasted{Base.Broadcast.DefaultArrayStyle{4}, Nothing, typeof(*), Tuple{Array{Bool, 4}, Float64}})\n",
      "    @ Base.Broadcast ./broadcast.jl:880\n",
      " [11] pauli_to_mpo(label::String)\n",
      "    @ Main ~/Documents/Python/MPS_Project/jl_notebook_cell_df34fa98e69747e1a8f8a730347b8e2f_X52sZmlsZQ==.jl:19\n",
      " [12] top-level scope\n",
      "    @ ~/Documents/Python/MPS_Project/jl_notebook_cell_df34fa98e69747e1a8f8a730347b8e2f_X53sZmlsZQ==.jl:3"
     ]
    }
   ],
   "source": [
    "Pauil_MPOs = []\n",
    "for label in labels\n",
    "    mpo = pauli_to_mpo(label)\n",
    "    push!(Pauil_MPOs, mpo)\n",
    "end"
   ]
  },
  {
   "cell_type": "markdown",
   "metadata": {},
   "source": [
    "# RECONSTRUCTING  THE STATEVECTOR BY CONTRACTING MPS ELEMENTS"
   ]
  },
  {
   "cell_type": "code",
   "execution_count": 2,
   "metadata": {},
   "outputs": [
    {
     "data": {
      "text/plain": [
       "contract_mps (generic function with 1 method)"
      ]
     },
     "metadata": {},
     "output_type": "display_data"
    }
   ],
   "source": [
    "using TensorOperations\n",
    "\n",
    "function contract_mps(MPS::Vector)\n",
    "    psi = MPS[1]  # Start with the first site tensor\n",
    "0\n",
    "    for i in 2:length(MPS)\n",
    "        T = MPS[i]\n",
    "\n",
    "        \n",
    "        @tensor psi_new[a, p1, p2, c] := psi[a, p1, b] * T[b, p2, c]\n",
    "\n",
    "        \n",
    "        d1 = size(psi, 2)\n",
    "        d2 = size(T, 2)\n",
    "        right_bond = size(psi_new, 4)\n",
    "\n",
    "        psi = reshape(psi_new, 1, d1 * d2, right_bond)\n",
    "    end\n",
    "\n",
    "    \n",
    "    return reshape(psi, :)\n",
    "end"
   ]
  },
  {
   "cell_type": "markdown",
   "metadata": {},
   "source": [
    "# CUTTING OFF THE COMPLEX NUMBERS "
   ]
  },
  {
   "cell_type": "code",
   "execution_count": 1,
   "metadata": {},
   "outputs": [
    {
     "data": {
      "text/plain": [
       "cutoff_complex_parts (generic function with 2 methods)"
      ]
     },
     "metadata": {},
     "output_type": "display_data"
    }
   ],
   "source": [
    "function cutoff_complex_parts(A::Array, cutoff::Float64 = 1e-12)\n",
    "    re = real.(A)\n",
    "    im = imag.(A)\n",
    "\n",
    "    re[abs.(re) .< cutoff] .= 0.0\n",
    "    im[abs.(im) .< cutoff] .= 0.0\n",
    "\n",
    "    A .= complex.(re, im)\n",
    "end"
   ]
  },
  {
   "cell_type": "markdown",
   "metadata": {},
   "source": [
    "# APPLYING THE RECONSTRUCTING FUNCTION"
   ]
  },
  {
   "cell_type": "code",
   "execution_count": 35,
   "metadata": {},
   "outputs": [
    {
     "data": {
      "text/plain": [
       "4096-element Vector{ComplexF64}:\n",
       "    0.02221278104648671 + 0.0im\n",
       "                    0.0 + 0.0im\n",
       "                    0.0 + 0.0im\n",
       "   0.006459266754389635 - 0.013653612995951827im\n",
       "                    0.0 + 0.0im\n",
       "   -0.01564549559844753 - 0.010153208000613503im\n",
       "   0.014734130944164855 + 0.011194121942464162im\n",
       "                    0.0 + 0.0im\n",
       "                    0.0 + 0.0im\n",
       " -0.0003580795991152047 + 0.009868844424071804im\n",
       "                        ⋮\n",
       "                    0.0 + 0.0im\n",
       "                    0.0 + 0.0im\n",
       "   0.005425202135683498 - 0.006361943170859172im\n",
       "   0.002326104433596305 - 0.0015250884178343662im\n",
       "                    0.0 + 0.0im\n",
       "  -0.011019829568911775 + 0.0109105172658617im\n",
       "                    0.0 + 0.0im\n",
       "                    0.0 + 0.0im\n",
       "    0.00718388943285008 + 0.0im"
      ]
     },
     "metadata": {},
     "output_type": "display_data"
    }
   ],
   "source": [
    "re_psi_1 = contract_mps(MPS)\n",
    "re_psi = cutoff_complex_parts(re_psi_1, 1e-8)\n",
    "\n"
   ]
  },
  {
   "cell_type": "markdown",
   "metadata": {},
   "source": [
    "# CHECKING THE RECONSTRUCTED STATEVECTOR IS SAME AS INITIAL ONE"
   ]
  },
  {
   "cell_type": "code",
   "execution_count": 36,
   "metadata": {},
   "outputs": [
    {
     "data": {
      "text/plain": [
       "1.6981183086019288e-7"
      ]
     },
     "metadata": {},
     "output_type": "display_data"
    }
   ],
   "source": [
    "norm(re_psi - psi)"
   ]
  },
  {
   "cell_type": "code",
   "execution_count": null,
   "metadata": {},
   "outputs": [],
   "source": []
  }
 ],
 "metadata": {
  "kernelspec": {
   "display_name": "Julia 1.11.4",
   "language": "julia",
   "name": "julia-1.11"
  },
  "language_info": {
   "file_extension": ".jl",
   "mimetype": "application/julia",
   "name": "julia",
   "version": "1.11.4"
  }
 },
 "nbformat": 4,
 "nbformat_minor": 2
}
