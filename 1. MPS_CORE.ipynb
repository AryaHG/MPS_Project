{
 "cells": [
  {
   "cell_type": "markdown",
   "metadata": {},
   "source": [
    "# The MPS Calculator — Overview\n",
    "\n",
    "**Goal.**  \n",
    "Convert an $n$-qubit statevector $\\psi \\in \\mathbb{C}^{2^n}$ into a **Matrix Product State (MPS)** using sequential SVD; inspect the singular values at the middle cut (entanglement profile); and use the tensor networking for reconstruction checks and entropy calculations.\n",
    "\n",
    "**What this notebook takes in / produces**\n",
    "- **Input:** a complex text file containing amplitudes of a state $|\\psi\\rangle$ (from your Clifford/FGS/Haar generators).  \n",
    "- **Output:** a vector `MPS` of site tensors $A^{[k]} \\in \\mathbb{C}^{D_{k-1}\\times 2 \\times D_k}$, a plot of singular values at the middle bond, and helper metrics (Rényi entropies, reconstruction error).\n",
    "\n",
    "**Why MPS?**  \n",
    "MPS exposes the **Schmidt spectrum** across each bipartition via singular values. The **bond dimension** $\\chi=\\max_k D_k$ encodes how entangled the state is.\n",
    "\n"
   ]
  },
  {
   "cell_type": "markdown",
   "metadata": {},
   "source": [
    "## MPS construction (Julia function)\n",
    "\n",
    "**Idea .**  \n",
    "Sweep left→right. At step $k$:\n",
    "1. Reshape the current vector into a matrix $(D_{k-1}\\!\\cdot\\!2) \\times D_{\\text{right}}$ that isolates site $k$.\n",
    "2. Compute SVD $$\\Psi_k = U_k \\, \\mathrm{diag}(S_k) \\, V_k^\\dagger.$$\n",
    "3. Keep the top $r$ singular values with $|S_k|>\\texttt{cutoff}$ (noise control / entanglement truncation).\n",
    "4. Store $A^{[k]}=\\mathrm{reshape}(U_k^{(:,1:r)},\\, D_{k-1}, 2, r)$ and pass $\\Psi_{k+1}=\\mathrm{diag}(S_k^{(1:r)}) \\, (V_k^{(:,1:r)})^\\dagger$ to the next step.\n",
    "5. At the end, reshape the remainder into $A^{[n]} \\in \\mathbb{C}^{D_{n-1}\\times 2 \\times 1}$.\n",
    "\n",
    "**What the code does**\n",
    "- Computes $n=\\log_2(\\texttt{length}(\\psi))$ and asserts power-of-two length.\n",
    "- Loops over sites $k=1,\\dots,n-1$, reshaping, SVD’ing, **counting rank** $r$ above `cutoff`, truncating $(U,S,V)$, and pushing $A^{[k]}$ into `mps`.\n",
    "- At $k=\\lceil n/2\\rceil$ it **records/plots** the middle singular values $S_{k^\\star}$ (where entanglement typically peaks).\n",
    "- Finishes with the last tensor and returns the `mps` vector.\n",
    "\n",
    "**Reading the printed shapes.**  \n",
    "Lines like `A[5] shape: (16, 2, 32)` mean left bond $D_{4}=16$, physical dimension $2$, right bond $D_{5}=32$. The sequence $\\{D_k\\}$ is your running estimate of entanglement across cuts; $\\max_k D_k$ is $\\chi$.\n"
   ]
  },
  {
   "cell_type": "code",
   "execution_count": 1,
   "metadata": {},
   "outputs": [
    {
     "data": {
      "text/plain": [
       "load_complex_vector_from_txt_2 (generic function with 1 method)"
      ]
     },
     "metadata": {},
     "output_type": "display_data"
    }
   ],
   "source": [
    "using LinearAlgebra\n",
    "using Plots: plot, savefig\n",
    "dir = \"/Users/arya/Documents/Python/DATA/\"\n",
    "\n",
    "\n",
    "# Convert a state vector into its Matrix Product State (MPS) representation\n",
    "function mps_function(psi::Vector{ComplexF64}, cutoff::Float64)\n",
    "    n = round(Int, log2(length(psi)))  # Number of qubits\n",
    "    @assert 2^n == length(psi) \"Length of psi must be a power of 2\"\n",
    "\n",
    "    mps = []\n",
    "    D_prev = 1 # Initial bond dimension\n",
    "\n",
    "    for k in 1:n-1\n",
    "        d_left = D_prev\n",
    "        d_phys = 2 # Physical dimension (2 for qubits)\n",
    "        d_right = length(psi) ÷ (d_left * d_phys)\n",
    "\n",
    "        psi_matrix = reshape(psi, (d_left * d_phys, d_right))\n",
    "        U, S, V = svd(psi_matrix)\n",
    "        \n",
    "       \n",
    "      \n",
    "        if k == ceil(Int, n/2)\n",
    "            global middle_singular_values = copy(S)\n",
    "            plt = plot(\n",
    "                S,\n",
    "                marker = :circle,\n",
    "                xlabel = \"Number of Singular Values\",\n",
    "                ylabel = \"Singular Values\",\n",
    "                title = \"Singular Values at Step $k (Middle Site)\",\n",
    "                yscale = :log10,\n",
    "                ylims = (1e-25, 1e5),\n",
    "                #yformatter = y -> @sprintf(\"%.5e\", y),   # <--- show 2 decimal digits in scientific notation\n",
    "                legend = false\n",
    "            )\n",
    "            savefig(plt, dir * \"singular_values_plot(FGS).pdf\")\n",
    "        end\n",
    "\n",
    "        \n",
    "\n",
    "        # Find how many singular values are above cutoff\n",
    "        r = count(s -> abs(s) > cutoff, S)\n",
    "        if r == 0\n",
    "            error(\"All singular values below cutoff at step $k — increase cutoff or check state\")\n",
    "        end\n",
    "\n",
    "        # Truncate U, S, V to rank r  (non zero singular values)\n",
    "        U_trunc = U[:, 1:r]\n",
    "        S_trunc = S[1:r]\n",
    "        V_trunc = V[:, 1:r]\n",
    "\n",
    "        A = reshape(U_trunc, d_left, d_phys, r)\n",
    "        push!(mps, A)\n",
    "\n",
    "        psi = Diagonal(S_trunc) * V_trunc'\n",
    "        D_prev = r\n",
    "    end\n",
    "\n",
    "    # Final tensor\n",
    "    A_last = reshape(psi, D_prev, 2, 1)\n",
    "    push!(mps, A_last)\n",
    "\n",
    "    return mps\n",
    "end\n",
    "\n",
    "\n",
    "\n",
    "# READING COMPLEX TEXT FILE (2 Functions) \n",
    "function load_complex_vector_from_txt(filename::String)\n",
    "    psi = ComplexF64[]\n",
    "    open(filename, \"r\") do file\n",
    "        for line in eachline(file)\n",
    "            s = replace(line, \"im\" => \"\")  # remove \"im\"\n",
    "            parts = split(s, \"+\")\n",
    "            if length(parts) == 2\n",
    "                real_part = parse(Float64, strip(parts[1]))\n",
    "                imag_part = parse(Float64, strip(parts[2]))\n",
    "                push!(psi, ComplexF64(real_part, imag_part))\n",
    "            end\n",
    "        end\n",
    "    end\n",
    "    return psi\n",
    "end\n",
    "\n",
    "function load_complex_vector_from_txt_2(filename::String)\n",
    "    psi = ComplexF64[]\n",
    "    open(filename, \"r\") do file\n",
    "        for line in eachline(file)\n",
    "            # Remove \"im\" and index number\n",
    "            parts = split(strip(line), r\"\\s+\")\n",
    "            if length(parts) >= 4\n",
    "                real_str = parts[1+1]  # after the index\n",
    "                sign = parts[2+1]      # '+' or '-'\n",
    "                imag_str = parts[3+1]\n",
    "\n",
    "                real_part = parse(Float64, real_str)\n",
    "                imag_part = parse(Float64, imag_str)\n",
    "                imag_part *= (sign == \"+\" ? 1 : -1)\n",
    "\n",
    "                push!(psi, ComplexF64(real_part, imag_part))\n",
    "            end\n",
    "        end\n",
    "    end\n",
    "    return psi\n",
    "end\n"
   ]
  },
  {
   "cell_type": "code",
   "execution_count": 2,
   "metadata": {},
   "outputs": [
    {
     "name": "stdout",
     "output_type": "stream",
     "text": [
      "A[1] shape: (1, 2, 2)\n",
      "A[2] shape: (2, 2, 4)\n",
      "A[3] shape: (4, 2, 8)\n",
      "A[4] shape: (8, 2, 16)\n",
      "A[5] shape: (16, 2, 32)\n",
      "A[6] shape: (32, 2, 16)\n",
      "A[7] shape: (16, 2, 8)\n",
      "A[8] shape: (8, 2, 4)\n",
      "A[9] shape: (4, 2, 2)\n",
      "A[10] shape: (2, 2, 1)\n"
     ]
    }
   ],
   "source": [
    "# APLLYING THE MPS CALCULATER ON DIFFERENT STATEVECTORS\n",
    "psi = load_complex_vector_from_txt(dir * \"cl.txt\")\n",
    "MPS = mps_function(psi, 1e-8)\n",
    "for (i, A) in enumerate(MPS)\n",
    "    println(\"A[$i] shape: \", size(A))\n",
    "end"
   ]
  },
  {
   "cell_type": "markdown",
   "metadata": {},
   "source": [
    "## Rényi entropies from singular values\n",
    "\n",
    "**Definition**  \n",
    "For singular values $\\{\\lambda_i\\}$ at a chosen cut,\n",
    "$$\n",
    "S_\\alpha \\;=\\; \\frac{1}{1-\\alpha}\\,\\log\\!\\left(\\sum_i \\lambda_i^{\\,2\\alpha}\\right),\n",
    "\\qquad \\alpha\\ge 1.\n",
    "$$\n",
    "The code:\n",
    "- Squares $\\lambda$ to probabilities $p_i=\\lambda_i^2$, handles $0\\log 0$ safely, returns $S_1$ (von Neumann) and $S_\\alpha$ for $\\alpha=2{:}10$.\n",
    "- Prints the middle-cut singular values and the vector of entropies.\n",
    "\n",
    "**What to expect.**  \n",
    "- **Stabilizer states:** flat spectrum on $r$ values $\\Rightarrow S_\\alpha=\\log r$ for all $\\alpha$.  \n",
    "- **Haar-typical:** strict hierarchy $S_\\infty<\\cdots<S_2<S_1\\lesssim \\log d_A$ (Page-like behavior).  \n",
    "- **FGS:** $S_\\alpha$ grows toward **half-filling** and then decreases symmetrically.\n"
   ]
  },
  {
   "cell_type": "code",
   "execution_count": 3,
   "metadata": {},
   "outputs": [
    {
     "name": "stdout",
     "output_type": "stream",
     "text": [
      "Singular Values at the Middle Site:[0.1767760000000001, 0.1767760000000001, 0.1767760000000001, 0.17677600000000007, 0.17677600000000007, 0.17677600000000007, 0.17677600000000007, 0.17677600000000007, 0.17677600000000007, 0.17677600000000007, 0.17677600000000007, 0.17677600000000002, 0.17677600000000002, 0.17677600000000002, 0.17677600000000002, 0.17677600000000002, 0.17677600000000002, 0.17677600000000002, 0.176776, 0.176776, 0.176776, 0.176776, 0.176776, 0.176776, 0.176776, 0.176776, 0.176776, 0.17677599999999996, 0.17677599999999996, 0.17677599999999996, 0.17677599999999993, 0.1767759999999999]\n"
     ]
    },
    {
     "data": {
      "text/plain": [
       "10-element Vector{Float64}:\n",
       " 3.465735902799726\n",
       " 3.4657359027997257\n",
       " 3.4657359027997257\n",
       " 3.4657359027997257\n",
       " 3.465735902799726\n",
       " 3.465735902799726\n",
       " 3.4657359027997257\n",
       " 3.4657359027997257\n",
       " 3.4657359027997257\n",
       " 3.4657359027997257"
      ]
     },
     "metadata": {},
     "output_type": "display_data"
    }
   ],
   "source": [
    "# Calculate Renyi Entropies from Singular Values\n",
    "function renyi_entropies(S::AbstractVector)\n",
    "    p = S.^2\n",
    "    p ./= sum(p)\n",
    "    Ren_En = zeros(Float64, 10)\n",
    "    #Van Neumann Entropy\n",
    "    Ren_En[1] = -sum(pi == 0 ? 0.0 : pi * log(pi) for pi in p)          #Note to myself: Ternary Operator\n",
    "    #Renyi Entropies\n",
    "    for n in 2:10\n",
    "        Ren_En[n] = (1 / (1 - n)) * log(sum(p .^ n))\n",
    "    end\n",
    "\n",
    "    return Ren_En\n",
    "end\n",
    "\n",
    "\n",
    "\n",
    "# Checking the singular values\n",
    "println(\"Singular Values at the Middle Site:\", middle_singular_values)\n",
    "\n",
    "# Renyi Entropy of the state: \n",
    "E = renyi_entropies(middle_singular_values)"
   ]
  },
  {
   "cell_type": "markdown",
   "metadata": {},
   "source": [
    "## SERs — Stabilizer Rényi Entropy and Magic\n",
    "\n",
    "**Goal.**  \n",
    "Quantify how far a state $|\\psi\\rangle$ is from the stabilizer manifold.\n",
    "\n",
    "**Stabilizer Rényi Entropy (SRE):**\n",
    "$$\n",
    "m_n(|\\psi\\rangle) = d^{-n} \\sum_{\\sigma} |\\langle\\psi | \\sigma | \\psi \\rangle|^{2n}, \\qquad\n",
    "\\mathcal{M}_n(|\\psi\\rangle) = \\frac{1}{1-n}\\log m_n(|\\psi\\rangle) - \\log d.\n",
    "$$\n",
    "Here $\\sigma$ runs over all **Pauli strings** forming the stabilizer basis of dimension $d=2^N$.  \n",
    "In practice, each $\\sigma$ must be represented as an **MPO** acting on the MPS to evaluate the overlaps $\\langle \\psi|\\sigma\\rangle$.\n",
    "\n",
    "- For exact stabilizer states, only one term contributes $\\Rightarrow \\mathcal{M}_n = 0$.  \n",
    "- For non-Clifford (magical) states, multiple overlaps are nonzero $\\Rightarrow \\mathcal{M}_n > 0$.\n",
    "\n",
    "$\\mathcal{M}_n$ grows as $T$-gates or other non-Clifford resources are introduced.\n"
   ]
  },
  {
   "cell_type": "markdown",
   "metadata": {},
   "source": [
    "### Building the Pauli Strings"
   ]
  },
  {
   "cell_type": "code",
   "execution_count": 4,
   "metadata": {},
   "outputs": [
    {
     "data": {
      "text/plain": [
       "10-element Vector{Array{ComplexF64, 4}}:\n",
       " [1.0 + 0.0im;;; 0.0 + 0.0im;;;; 0.0 + 0.0im;;; 1.0 + 0.0im]\n",
       " [1.0 + 0.0im;;; 0.0 + 0.0im;;;; 0.0 + 0.0im;;; 1.0 + 0.0im]\n",
       " [1.0 + 0.0im;;; 0.0 + 0.0im;;;; 0.0 + 0.0im;;; 1.0 + 0.0im]\n",
       " [1.0 + 0.0im;;; 0.0 + 0.0im;;;; 0.0 + 0.0im;;; 1.0 + 0.0im]\n",
       " [1.0 + 0.0im;;; 0.0 + 0.0im;;;; 0.0 + 0.0im;;; 1.0 + 0.0im]\n",
       " [1.0 + 0.0im;;; 0.0 + 0.0im;;;; 0.0 + 0.0im;;; 1.0 + 0.0im]\n",
       " [1.0 + 0.0im;;; 0.0 + 0.0im;;;; 0.0 + 0.0im;;; 1.0 + 0.0im]\n",
       " [1.0 + 0.0im;;; 0.0 + 0.0im;;;; 0.0 + 0.0im;;; 1.0 + 0.0im]\n",
       " [1.0 + 0.0im;;; 0.0 + 0.0im;;;; 0.0 + 0.0im;;; 1.0 + 0.0im]\n",
       " [1.0 + 0.0im;;; 0.0 + 0.0im;;;; 0.0 + 0.0im;;; 1.0 + 0.0im]"
      ]
     },
     "metadata": {},
     "output_type": "display_data"
    }
   ],
   "source": [
    "using LinearAlgebra\n",
    "\n",
    "#Importing the stabilizer group of the state\n",
    "labels = readlines(\"/Users/arya/Documents/Python/DATA/P_labels.txt\")\n",
    "\n",
    "#defining Pauli Matrices\n",
    "s_x = ComplexF64[0 1; 1 0]\n",
    "s_y = ComplexF64[0 -im; im 0]\n",
    "s_z = ComplexF64[1 0; 0 -1]\n",
    "s_i = Matrix{ComplexF64}(I, 2, 2)\n",
    "\n",
    "# Map labels to matrices\n",
    "if !@isdefined pauli_map\n",
    "    const pauli_map = Dict{Char, Matrix{ComplexF64}}('X'=>s_x, 'Y'=>s_y, 'Z'=>s_z, 'I'=>s_i)  \n",
    "end \n",
    "\n",
    "# Convert Pauli string to MPO\n",
    "function pauli_to_mpo(label::String)\n",
    "    s = strip(label)\n",
    "    coef = startswith(s, '-') ? (s = s[2:end]; -1.0) : 1.0\n",
    "    mpo = [reshape(pauli_map[c], 1,1,2,2) for c in s]  # convert Char→String\n",
    "    mpo[1] .*= coef\n",
    "    return mpo\n",
    "end\n",
    "\n",
    "mpo = pauli_to_mpo(labels[1])"
   ]
  },
  {
   "cell_type": "code",
   "execution_count": null,
   "metadata": {},
   "outputs": [],
   "source": [
    "Pauil_MPOs = []\n",
    "for label in labels\n",
    "    mpo = pauli_to_mpo(label)\n",
    "    push!(Pauil_MPOs, mpo)\n",
    "end"
   ]
  },
  {
   "cell_type": "markdown",
   "metadata": {},
   "source": [
    "## Sanity check — Reconstructing the state and error budget\n",
    "\n",
    "**Goal.**  \n",
    "Confirm the MPS truly represents $|\\psi\\rangle$ (within the chosen cutoff).\n",
    "\n",
    "**What the code does**\n",
    "- `contract_mps(MPS)`: sequentially contracts site tensors with `@tensor` to rebuild the full statevector.  \n",
    "- `cutoff_complex_parts(A, ε)`: zeroes tiny real/imag parts to avoid printing noise.  \n",
    "- Compares the reconstructed vector to the original via `norm(re_psi - psi)`.\n",
    "\n"
   ]
  },
  {
   "cell_type": "code",
   "execution_count": null,
   "metadata": {},
   "outputs": [
    {
     "data": {
      "text/plain": [
       "contract_mps (generic function with 1 method)"
      ]
     },
     "metadata": {},
     "output_type": "display_data"
    }
   ],
   "source": [
    "# Reconstructing the statevector by contracting MPS elements\n",
    "using TensorOperations\n",
    "\n",
    "\n",
    "# Contract mps\n",
    "function contract_mps(MPS::Vector)\n",
    "    psi = MPS[1]  # Start with the first site tensor\n",
    "0\n",
    "    for i in 2:length(MPS)\n",
    "        T = MPS[i]\n",
    "\n",
    "        \n",
    "        @tensor psi_new[a, p1, p2, c] := psi[a, p1, b] * T[b, p2, c]\n",
    "\n",
    "        \n",
    "        d1 = size(psi, 2)\n",
    "        d2 = size(T, 2)\n",
    "        right_bond = size(psi_new, 4)\n",
    "\n",
    "        psi = reshape(psi_new, 1, d1 * d2, right_bond)\n",
    "    end\n",
    "\n",
    "    \n",
    "    return reshape(psi, :)\n",
    "end\n",
    "\n",
    "# Cutting off the complex numbers\n",
    "function cutoff_complex_parts(A::Array, cutoff::Float64 = 1e-12)\n",
    "    re = real.(A)\n",
    "    im = imag.(A)\n",
    "\n",
    "    re[abs.(re) .< cutoff] .= 0.0\n",
    "    im[abs.(im) .< cutoff] .= 0.0\n",
    "\n",
    "    A .= complex.(re, im)\n",
    "end\n",
    "\n",
    "\n",
    "# Applying the reconstruction\n",
    "re_psi_1 = contract_mps(MPS)\n",
    "re_psi = cutoff_complex_parts(re_psi_1, 1e-8)\n",
    "\n",
    "# Checking the difference\n",
    "\n",
    "norm(re_psi - psi)"
   ]
  }
 ],
 "metadata": {
  "kernelspec": {
   "display_name": "Julia 1.11.4",
   "language": "julia",
   "name": "julia-1.11"
  },
  "language_info": {
   "file_extension": ".jl",
   "mimetype": "application/julia",
   "name": "julia",
   "version": "1.11.4"
  }
 },
 "nbformat": 4,
 "nbformat_minor": 2
}
