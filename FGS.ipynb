{
 "cells": [
  {
   "cell_type": "code",
   "execution_count": 2,
   "metadata": {},
   "outputs": [
    {
     "name": "stdout",
     "output_type": "stream",
     "text": [
      "Requirement already satisfied: free-fermion-lib in /Library/Frameworks/Python.framework/Versions/3.13/lib/python3.13/site-packages (1.0.0)\n",
      "Requirement already satisfied: numpy>=1.20.0 in /Library/Frameworks/Python.framework/Versions/3.13/lib/python3.13/site-packages (from free-fermion-lib) (2.2.1)\n",
      "Requirement already satisfied: scipy>=1.7.0 in /Library/Frameworks/Python.framework/Versions/3.13/lib/python3.13/site-packages (from free-fermion-lib) (1.15.2)\n",
      "Requirement already satisfied: networkx>=2.6.0 in /Library/Frameworks/Python.framework/Versions/3.13/lib/python3.13/site-packages (from free-fermion-lib) (3.4.2)\n",
      "Requirement already satisfied: matplotlib>=3.3.0 in /Library/Frameworks/Python.framework/Versions/3.13/lib/python3.13/site-packages (from free-fermion-lib) (3.10.0)\n",
      "Requirement already satisfied: contourpy>=1.0.1 in /Library/Frameworks/Python.framework/Versions/3.13/lib/python3.13/site-packages (from matplotlib>=3.3.0->free-fermion-lib) (1.3.1)\n",
      "Requirement already satisfied: cycler>=0.10 in /Library/Frameworks/Python.framework/Versions/3.13/lib/python3.13/site-packages (from matplotlib>=3.3.0->free-fermion-lib) (0.12.1)\n",
      "Requirement already satisfied: fonttools>=4.22.0 in /Library/Frameworks/Python.framework/Versions/3.13/lib/python3.13/site-packages (from matplotlib>=3.3.0->free-fermion-lib) (4.55.3)\n",
      "Requirement already satisfied: kiwisolver>=1.3.1 in /Library/Frameworks/Python.framework/Versions/3.13/lib/python3.13/site-packages (from matplotlib>=3.3.0->free-fermion-lib) (1.4.8)\n",
      "Requirement already satisfied: packaging>=20.0 in /Library/Frameworks/Python.framework/Versions/3.13/lib/python3.13/site-packages (from matplotlib>=3.3.0->free-fermion-lib) (24.2)\n",
      "Requirement already satisfied: pillow>=8 in /Library/Frameworks/Python.framework/Versions/3.13/lib/python3.13/site-packages (from matplotlib>=3.3.0->free-fermion-lib) (11.1.0)\n",
      "Requirement already satisfied: pyparsing>=2.3.1 in /Library/Frameworks/Python.framework/Versions/3.13/lib/python3.13/site-packages (from matplotlib>=3.3.0->free-fermion-lib) (3.2.1)\n",
      "Requirement already satisfied: python-dateutil>=2.7 in /Library/Frameworks/Python.framework/Versions/3.13/lib/python3.13/site-packages (from matplotlib>=3.3.0->free-fermion-lib) (2.9.0.post0)\n",
      "Requirement already satisfied: six>=1.5 in /Library/Frameworks/Python.framework/Versions/3.13/lib/python3.13/site-packages (from python-dateutil>=2.7->matplotlib>=3.3.0->free-fermion-lib) (1.17.0)\n",
      "Note: you may need to restart the kernel to use updated packages.\n"
     ]
    }
   ],
   "source": [
    "pip install free-fermion-lib"
   ]
  },
  {
   "cell_type": "code",
   "execution_count": 16,
   "metadata": {},
   "outputs": [
    {
     "name": "stdout",
     "output_type": "stream",
     "text": [
      "Found existing installation: qiskit 2.0.1\n",
      "Uninstalling qiskit-2.0.1:\n",
      "  Successfully uninstalled qiskit-2.0.1\n",
      "Found existing installation: qiskit-nature 0.7.2\n",
      "Uninstalling qiskit-nature-0.7.2:\n",
      "  Successfully uninstalled qiskit-nature-0.7.2\n",
      "Found existing installation: qiskit-algorithms 0.3.1\n",
      "Uninstalling qiskit-algorithms-0.3.1:\n",
      "  Successfully uninstalled qiskit-algorithms-0.3.1\n",
      "Collecting qiskit-nature\n",
      "  Using cached qiskit_nature-0.7.2-py3-none-any.whl.metadata (8.0 kB)\n",
      "Collecting qiskit[finance,visualization]\n",
      "  Downloading qiskit-2.1.1-cp39-abi3-macosx_10_12_x86_64.whl.metadata (12 kB)\n",
      "\u001b[33mWARNING: qiskit 2.1.1 does not provide the extra 'finance'\u001b[0m\u001b[33m\n",
      "\u001b[0mRequirement already satisfied: rustworkx>=0.15.0 in /Library/Frameworks/Python.framework/Versions/3.13/lib/python3.13/site-packages (from qiskit[finance,visualization]) (0.16.0)\n",
      "Requirement already satisfied: numpy<3,>=1.17 in /Library/Frameworks/Python.framework/Versions/3.13/lib/python3.13/site-packages (from qiskit[finance,visualization]) (2.2.1)\n",
      "Requirement already satisfied: scipy>=1.5 in /Library/Frameworks/Python.framework/Versions/3.13/lib/python3.13/site-packages (from qiskit[finance,visualization]) (1.15.2)\n",
      "Requirement already satisfied: dill>=0.3 in /Library/Frameworks/Python.framework/Versions/3.13/lib/python3.13/site-packages (from qiskit[finance,visualization]) (0.4.0)\n",
      "Requirement already satisfied: stevedore>=3.0.0 in /Library/Frameworks/Python.framework/Versions/3.13/lib/python3.13/site-packages (from qiskit[finance,visualization]) (5.4.1)\n",
      "Requirement already satisfied: typing-extensions in /Library/Frameworks/Python.framework/Versions/3.13/lib/python3.13/site-packages (from qiskit[finance,visualization]) (4.13.0)\n",
      "Requirement already satisfied: matplotlib>=3.3 in /Library/Frameworks/Python.framework/Versions/3.13/lib/python3.13/site-packages (from qiskit[finance,visualization]) (3.10.0)\n",
      "Collecting pydot (from qiskit[finance,visualization])\n",
      "  Downloading pydot-4.0.1-py3-none-any.whl.metadata (11 kB)\n",
      "Requirement already satisfied: Pillow>=4.2.1 in /Library/Frameworks/Python.framework/Versions/3.13/lib/python3.13/site-packages (from qiskit[finance,visualization]) (11.1.0)\n",
      "Collecting pylatexenc>=1.4 (from qiskit[finance,visualization])\n",
      "  Downloading pylatexenc-2.10.tar.gz (162 kB)\n",
      "  Installing build dependencies ... \u001b[?25ldone\n",
      "\u001b[?25h  Getting requirements to build wheel ... \u001b[?25ldone\n",
      "\u001b[?25h  Preparing metadata (pyproject.toml) ... \u001b[?25ldone\n",
      "\u001b[?25hCollecting seaborn>=0.9.0 (from qiskit[finance,visualization])\n",
      "  Downloading seaborn-0.13.2-py3-none-any.whl.metadata (5.4 kB)\n",
      "Requirement already satisfied: sympy>=1.3 in /Library/Frameworks/Python.framework/Versions/3.13/lib/python3.13/site-packages (from qiskit[finance,visualization]) (1.14.0)\n",
      "Collecting qiskit-algorithms>=0.2.1 (from qiskit-nature)\n",
      "  Using cached qiskit_algorithms-0.3.1-py3-none-any.whl.metadata (4.2 kB)\n",
      "Requirement already satisfied: psutil>=5 in /Library/Frameworks/Python.framework/Versions/3.13/lib/python3.13/site-packages (from qiskit-nature) (7.0.0)\n",
      "Requirement already satisfied: setuptools>=40.1.0 in /Library/Frameworks/Python.framework/Versions/3.13/lib/python3.13/site-packages (from qiskit-nature) (78.1.0)\n",
      "Requirement already satisfied: h5py in /Library/Frameworks/Python.framework/Versions/3.13/lib/python3.13/site-packages (from qiskit-nature) (3.14.0)\n",
      "Requirement already satisfied: contourpy>=1.0.1 in /Library/Frameworks/Python.framework/Versions/3.13/lib/python3.13/site-packages (from matplotlib>=3.3->qiskit[finance,visualization]) (1.3.1)\n",
      "Requirement already satisfied: cycler>=0.10 in /Library/Frameworks/Python.framework/Versions/3.13/lib/python3.13/site-packages (from matplotlib>=3.3->qiskit[finance,visualization]) (0.12.1)\n",
      "Requirement already satisfied: fonttools>=4.22.0 in /Library/Frameworks/Python.framework/Versions/3.13/lib/python3.13/site-packages (from matplotlib>=3.3->qiskit[finance,visualization]) (4.55.3)\n",
      "Requirement already satisfied: kiwisolver>=1.3.1 in /Library/Frameworks/Python.framework/Versions/3.13/lib/python3.13/site-packages (from matplotlib>=3.3->qiskit[finance,visualization]) (1.4.8)\n",
      "Requirement already satisfied: packaging>=20.0 in /Library/Frameworks/Python.framework/Versions/3.13/lib/python3.13/site-packages (from matplotlib>=3.3->qiskit[finance,visualization]) (24.2)\n",
      "Requirement already satisfied: pyparsing>=2.3.1 in /Library/Frameworks/Python.framework/Versions/3.13/lib/python3.13/site-packages (from matplotlib>=3.3->qiskit[finance,visualization]) (3.2.1)\n",
      "Requirement already satisfied: python-dateutil>=2.7 in /Library/Frameworks/Python.framework/Versions/3.13/lib/python3.13/site-packages (from matplotlib>=3.3->qiskit[finance,visualization]) (2.9.0.post0)\n",
      "Requirement already satisfied: six>=1.5 in /Library/Frameworks/Python.framework/Versions/3.13/lib/python3.13/site-packages (from python-dateutil>=2.7->matplotlib>=3.3->qiskit[finance,visualization]) (1.17.0)\n",
      "Collecting pandas>=1.2 (from seaborn>=0.9.0->qiskit[finance,visualization])\n",
      "  Downloading pandas-2.3.1-cp313-cp313-macosx_10_13_x86_64.whl.metadata (91 kB)\n",
      "Collecting pytz>=2020.1 (from pandas>=1.2->seaborn>=0.9.0->qiskit[finance,visualization])\n",
      "  Downloading pytz-2025.2-py2.py3-none-any.whl.metadata (22 kB)\n",
      "Collecting tzdata>=2022.7 (from pandas>=1.2->seaborn>=0.9.0->qiskit[finance,visualization])\n",
      "  Downloading tzdata-2025.2-py2.py3-none-any.whl.metadata (1.4 kB)\n",
      "Requirement already satisfied: pbr>=2.0.0 in /Library/Frameworks/Python.framework/Versions/3.13/lib/python3.13/site-packages (from stevedore>=3.0.0->qiskit[finance,visualization]) (6.1.1)\n",
      "Requirement already satisfied: mpmath<1.4,>=1.1.0 in /Library/Frameworks/Python.framework/Versions/3.13/lib/python3.13/site-packages (from sympy>=1.3->qiskit[finance,visualization]) (1.3.0)\n",
      "Downloading qiskit-2.1.1-cp39-abi3-macosx_10_12_x86_64.whl (7.3 MB)\n",
      "\u001b[2K   \u001b[90m━━━━━━━━━━━━━━━━━━━━━━━━━━━━━━━━━━━━━━━━\u001b[0m \u001b[32m7.3/7.3 MB\u001b[0m \u001b[31m20.8 MB/s\u001b[0m eta \u001b[36m0:00:00\u001b[0ma \u001b[36m0:00:01\u001b[0m\n",
      "\u001b[?25hUsing cached qiskit_nature-0.7.2-py3-none-any.whl (2.2 MB)\n",
      "Using cached qiskit_algorithms-0.3.1-py3-none-any.whl (310 kB)\n",
      "Downloading seaborn-0.13.2-py3-none-any.whl (294 kB)\n",
      "Downloading pandas-2.3.1-cp313-cp313-macosx_10_13_x86_64.whl (11.5 MB)\n",
      "\u001b[2K   \u001b[90m━━━━━━━━━━━━━━━━━━━━━━━━━━━━━━━━━━━━━━━━\u001b[0m \u001b[32m11.5/11.5 MB\u001b[0m \u001b[31m32.6 MB/s\u001b[0m eta \u001b[36m0:00:00\u001b[0m \u001b[36m0:00:01\u001b[0m\n",
      "\u001b[?25hDownloading pytz-2025.2-py2.py3-none-any.whl (509 kB)\n",
      "Downloading tzdata-2025.2-py2.py3-none-any.whl (347 kB)\n",
      "Downloading pydot-4.0.1-py3-none-any.whl (37 kB)\n",
      "Building wheels for collected packages: pylatexenc\n",
      "  Building wheel for pylatexenc (pyproject.toml) ... \u001b[?25ldone\n",
      "\u001b[?25h  Created wheel for pylatexenc: filename=pylatexenc-2.10-py3-none-any.whl size=136897 sha256=45d153eeb0e634ed97203a474e11953b12530219ca708a32006412837cb7a315\n",
      "  Stored in directory: /Users/arya/Library/Caches/pip/wheels/3c/d9/c1/bb2a15d13c742b9035ef7ae6ebe236af270b1d1d9b386dcd5e\n",
      "Successfully built pylatexenc\n",
      "Installing collected packages: pytz, pylatexenc, tzdata, pydot, pandas, seaborn, qiskit, qiskit-algorithms, qiskit-nature\n",
      "\u001b[2K   \u001b[90m━━━━━━━━━━━━━━━━━━━━━━━━━━━━━━━━━━━━━━━━\u001b[0m \u001b[32m9/9\u001b[0m [qiskit-nature]0m [qiskit-nature]hms]\n",
      "\u001b[1A\u001b[2KSuccessfully installed pandas-2.3.1 pydot-4.0.1 pylatexenc-2.10 pytz-2025.2 qiskit-2.1.1 qiskit-algorithms-0.3.1 qiskit-nature-0.7.2 seaborn-0.13.2 tzdata-2025.2\n"
     ]
    }
   ],
   "source": [
    "!pip uninstall qiskit qiskit-nature qiskit-algorithms -y\n",
    "!pip install \"qiskit[finance,visualization]\" qiskit-nature\n"
   ]
  },
  {
   "cell_type": "code",
   "execution_count": 1,
   "metadata": {},
   "outputs": [],
   "source": [
    "import numpy as np\n",
    "import ff\n",
    "\n",
    "\n",
    "\n"
   ]
  },
  {
   "cell_type": "code",
   "execution_count": 2,
   "metadata": {},
   "outputs": [
    {
     "name": "stdout",
     "output_type": "stream",
     "text": [
      "Generated state shape: (64, 64)\n",
      "Trace (should be 1): (1+3.0814879110195774e-32j)\n"
     ]
    }
   ],
   "source": [
    "# Generate a Gaussian state\n",
    "n_sites = 6\n",
    "rho = ff.random_FF_state(n_sites)\n",
    "print(f\"Generated state shape: {rho.shape}\")\n",
    "\n",
    "# Verify it's normalized\n",
    "trace = np.trace(rho)\n",
    "print(f\"Trace (should be 1): {trace}\")"
   ]
  },
  {
   "cell_type": "code",
   "execution_count": 3,
   "metadata": {},
   "outputs": [
    {
     "ename": "NameError",
     "evalue": "name 'statevector' is not defined",
     "output_type": "error",
     "traceback": [
      "\u001b[31m---------------------------------------------------------------------------\u001b[39m",
      "\u001b[31mNameError\u001b[39m                                 Traceback (most recent call last)",
      "\u001b[36mCell\u001b[39m\u001b[36m \u001b[39m\u001b[32mIn[3]\u001b[39m\u001b[32m, line 2\u001b[39m\n\u001b[32m      1\u001b[39m \u001b[38;5;28;01mwith\u001b[39;00m \u001b[38;5;28mopen\u001b[39m(\u001b[33m\"\u001b[39m\u001b[33mFGS.txt\u001b[39m\u001b[33m\"\u001b[39m, \u001b[33m\"\u001b[39m\u001b[33mw\u001b[39m\u001b[33m\"\u001b[39m) \u001b[38;5;28;01mas\u001b[39;00m f:\n\u001b[32m----> \u001b[39m\u001b[32m2\u001b[39m     \u001b[38;5;28;01mfor\u001b[39;00m i, val \u001b[38;5;129;01min\u001b[39;00m \u001b[38;5;28menumerate\u001b[39m(\u001b[43mstatevector\u001b[49m):\n\u001b[32m      3\u001b[39m         val = val.item()  \u001b[38;5;66;03m# Ensure scalar complex number\u001b[39;00m\n\u001b[32m      4\u001b[39m         real = val.real\n",
      "\u001b[31mNameError\u001b[39m: name 'statevector' is not defined"
     ]
    }
   ],
   "source": [
    "with open(\"FGS.txt\", \"w\") as f:\n",
    "    for i, val in enumerate(statevector):\n",
    "        val = val.item()  # Ensure scalar complex number\n",
    "        real = val.real\n",
    "        imag = val.imag\n",
    "        sign = '+' if imag >= 0 else '-'  # handle sign\n",
    "        f.write(f\"{i+1:4d}  {real:.15f} {sign} {abs(imag):.15f} im\\n\")\n"
   ]
  },
  {
   "cell_type": "code",
   "execution_count": 4,
   "metadata": {},
   "outputs": [],
   "source": [
    "def purification_rho(rho: np.ndarray) -> np.ndarray:\n",
    "    # Eigendecomposition of the density matrix\n",
    "    vals, vecs = np.linalg.eigh(rho)  # Use eigh since rho is Hermitian\n",
    "\n",
    "    d = rho.shape[0]\n",
    "    psi = np.zeros(d * d, dtype=np.complex128)\n",
    "\n",
    "    for k in range(d):\n",
    "        pk = vals[k]\n",
    "        if np.isclose(pk, 0):\n",
    "            continue  # Skip zero-eigenvalue components\n",
    "\n",
    "        psi_k = vecs[:, k]  # eigenvector |ψ_k⟩\n",
    "        tr_k = np.zeros(d, dtype=np.complex128)\n",
    "        tr_k[k] = 1.0       # ancilla basis state |k⟩\n",
    "\n",
    "        # Tensor product: √pk * (|ψ_k⟩ ⊗ |k⟩)\n",
    "        psi += np.sqrt(pk) * np.kron(psi_k, tr_k)\n",
    "\n",
    "    # Normalize the purified state vector\n",
    "    psi /= np.linalg.norm(psi)\n",
    "\n",
    "    return psi\n"
   ]
  },
  {
   "cell_type": "markdown",
   "metadata": {},
   "source": [
    "## Purified State"
   ]
  },
  {
   "cell_type": "code",
   "execution_count": 8,
   "metadata": {},
   "outputs": [],
   "source": [
    "statevector = purification_rho(rho)"
   ]
  },
  {
   "cell_type": "code",
   "execution_count": 7,
   "metadata": {},
   "outputs": [],
   "source": [
    "import numpy as np\n",
    "\n",
    "# 1. Load complex statevector from a txt file\n",
    "def load_statevector(filename):\n",
    "    with open(filename, 'r') as f:\n",
    "        lines = f.readlines()\n",
    "    vec = []\n",
    "    for line in lines:\n",
    "        parts = line.strip().split('+')\n",
    "        real = float(parts[0])\n",
    "        imag = float(parts[1].replace('im', ''))\n",
    "        vec.append(real + 1j * imag)\n",
    "    psi = np.array(vec, dtype=np.complex128)\n",
    "    psi /= np.linalg.norm(psi)\n",
    "    return psi\n"
   ]
  },
  {
   "cell_type": "markdown",
   "metadata": {},
   "source": [
    "## Checking FGS Fnction"
   ]
  },
  {
   "cell_type": "code",
   "execution_count": 13,
   "metadata": {},
   "outputs": [],
   "source": [
    "def check_fgs_given_ops(psi, L1, verbose=True):\n",
    "    N = int(np.log2(len(psi)))  # Number of sites, assuming psi is a valid state vector\n",
    "    # Break alpha array into annihilation and creation operators\n",
    "    a_ops = []\n",
    "    for i in range(N):\n",
    "        a_ops.append(L1[N+i])\n",
    "    \n",
    "    adag_ops = []\n",
    "    for i in range(N):\n",
    "        adag_ops.append(L1[i])\n",
    "\n",
    "    # Build the 2-point correlation matrix       \n",
    "    C = np.zeros((N, N), dtype=np.complex128)\n",
    "    for i in range(N):\n",
    "        for j in range(N):\n",
    "            C[i, j] = np.vdot(psi, adag_ops[i] @ a_ops[j] @ psi)\n",
    "\n",
    "    if verbose:\n",
    "        print(\"2-point correlation matrix C:\")\n",
    "        print(C)\n",
    "\n",
    "    # Build the 4-point correlation matrix and also check Wick's theorem\n",
    "    i, j, k, l = 0, 1, 0, 1\n",
    "    op = adag_ops[i] @ adag_ops[j] @ a_ops[k] @ a_ops[l]\n",
    "    four_point = np.vdot(psi, op @ psi)\n",
    "    wick_value = (C[i, l] * C[j, k] - C[i, k] * C[j, l])\n",
    "    if verbose:\n",
    "        print(f\"(a†_{i+1} a†_{j+1} a_{k+1} a_{l+1}) = {four_point}\")\n",
    "        print(f\"Wick prediction = {wick_value}\")\n",
    "        print(f\"Difference = {abs(four_point - wick_value)}\")\n",
    "\n",
    "    return np.abs(four_point - wick_value) < 1e-8\n"
   ]
  },
  {
   "cell_type": "markdown",
   "metadata": {},
   "source": [
    "## Sample State"
   ]
  },
  {
   "cell_type": "code",
   "execution_count": 30,
   "metadata": {},
   "outputs": [
    {
     "data": {
      "text/plain": [
       "4096"
      ]
     },
     "execution_count": 30,
     "metadata": {},
     "output_type": "execute_result"
    }
   ],
   "source": [
    "psi_2 = load_statevector('FGS_Gen.txt')\n",
    "len(psi_2)"
   ]
  },
  {
   "cell_type": "markdown",
   "metadata": {},
   "source": [
    "## All Zeros State"
   ]
  },
  {
   "cell_type": "code",
   "execution_count": 28,
   "metadata": {},
   "outputs": [
    {
     "name": "stdout",
     "output_type": "stream",
     "text": [
      "[1.+0.j 0.+0.j 0.+0.j 0.+0.j 0.+0.j 0.+0.j 0.+0.j 0.+0.j 0.+0.j 0.+0.j\n",
      " 0.+0.j 0.+0.j 0.+0.j 0.+0.j 0.+0.j 0.+0.j 0.+0.j 0.+0.j 0.+0.j 0.+0.j\n",
      " 0.+0.j 0.+0.j 0.+0.j 0.+0.j 0.+0.j 0.+0.j 0.+0.j 0.+0.j 0.+0.j 0.+0.j\n",
      " 0.+0.j 0.+0.j]\n"
     ]
    },
    {
     "data": {
      "text/plain": [
       "32"
      ]
     },
     "execution_count": 28,
     "metadata": {},
     "output_type": "execute_result"
    }
   ],
   "source": [
    "import numpy as np\n",
    "\n",
    "def all_zeros_statevector(N):\n",
    "    state = np.zeros((2**N,), dtype=complex)\n",
    "    state[0] = 1.0 + 0j  # |0...0⟩ is the first basis state\n",
    "    return state\n",
    "\n",
    "\n",
    "psi_3 = all_zeros_statevector(5)\n",
    "print(psi_3)\n",
    "len(psi_3)"
   ]
  },
  {
   "cell_type": "markdown",
   "metadata": {},
   "source": [
    "##  BELL State"
   ]
  },
  {
   "cell_type": "code",
   "execution_count": 87,
   "metadata": {},
   "outputs": [
    {
     "name": "stdout",
     "output_type": "stream",
     "text": [
      "[0.70710678+0.j 0.        +0.j 0.        +0.j 0.70710678+0.j]\n"
     ]
    },
    {
     "data": {
      "text/plain": [
       "4"
      ]
     },
     "execution_count": 87,
     "metadata": {},
     "output_type": "execute_result"
    }
   ],
   "source": [
    "def bell_psi_plus():\n",
    "    state = np.zeros(4, dtype=complex)\n",
    "    state[1] = 1 / np.sqrt(2)  # |01⟩\n",
    "    state[2] = 1 / np.sqrt(2)  # |10⟩\n",
    "    return state\n",
    "\n",
    "psi_4 = bell_phi_plus()\n",
    "print(psi_4)\n",
    "len(psi_4)"
   ]
  },
  {
   "cell_type": "code",
   "execution_count": 69,
   "metadata": {},
   "outputs": [
    {
     "name": "stdout",
     "output_type": "stream",
     "text": [
      "[[0. 1. 0. 0.]\n",
      " [0. 0. 0. 0.]\n",
      " [0. 0. 0. 1.]\n",
      " [0. 0. 0. 0.]]\n",
      "[[ 0  1  0  0]\n",
      " [ 0  0  0  0]\n",
      " [ 0  0  0 -1]\n",
      " [ 0  0  0  0]]\n",
      "[[0. 0. 0. 0.]\n",
      " [1. 0. 0. 0.]\n",
      " [0. 0. 0. 0.]\n",
      " [0. 0. 1. 0.]]\n",
      "[[ 0  0  0  0]\n",
      " [ 1  0  0  0]\n",
      " [ 0  0  0  0]\n",
      " [ 0  0 -1  0]]\n"
     ]
    }
   ],
   "source": [
    "I = np.eye(2)\n",
    "Z = np.array([[1, 0], [0, -1]])\n",
    "sigma_plus = np.array([[0, 1], [0, 0]])\n",
    "sigma_minus = np.array([[0, 0], [1, 0]])\n",
    "\n",
    "def kron(a, b):\n",
    "    return np.kron(a, b)\n",
    "\n",
    "a1_dag = kron(I, sigma_plus)\n",
    "a2_dag = kron(Z, sigma_plus)\n",
    "a1 = kron(I, sigma_minus)\n",
    "a2 = kron(Z, sigma_minus)\n",
    "\n",
    "L4 = [a1_dag, a2_dag, a1, a2]\n",
    "for i in range(len(L4)):\n",
    "    print(L4[i])"
   ]
  },
  {
   "cell_type": "code",
   "execution_count": 116,
   "metadata": {},
   "outputs": [
    {
     "name": "stdout",
     "output_type": "stream",
     "text": [
      "2-point correlation matrix C:\n",
      "[[0.5+0.j 0.5+0.j]\n",
      " [0.5+0.j 0.5+0.j]]\n",
      "(a†_1 a†_2 a_1 a_2) = 0j\n",
      "Wick prediction = 0j\n",
      "Difference = 0.0\n"
     ]
    },
    {
     "data": {
      "text/plain": [
       "np.True_"
      ]
     },
     "execution_count": 116,
     "metadata": {},
     "output_type": "execute_result"
    }
   ],
   "source": [
    "check_fgs_given_ops(psi_4, L4)"
   ]
  },
  {
   "cell_type": "code",
   "execution_count": 93,
   "metadata": {},
   "outputs": [],
   "source": [
    "import numpy as np\n",
    "\n",
    "I = np.eye(2)\n",
    "Z = np.array([[1, 0], [0, -1]])\n",
    "sigma_plus = np.array([[0, 1], [0, 0]])\n",
    "sigma_minus = np.array([[0, 0], [1, 0]])\n",
    "\n",
    "def kron(a, b, c):\n",
    "    return np.kron(np.kron(a, b), c)"
   ]
  },
  {
   "cell_type": "code",
   "execution_count": 94,
   "metadata": {},
   "outputs": [],
   "source": [
    "a0_dag = kron(I, I, sigma_plus)      # site 0 → σ⁺ on rightmost\n",
    "a1_dag = kron(I, Z, sigma_plus)      # site 1 → σ⁺ middle, Z right\n",
    "a2_dag = kron(Z, Z, sigma_plus)      # site 2 → σ⁺ left, ZZ right\n"
   ]
  },
  {
   "cell_type": "code",
   "execution_count": 95,
   "metadata": {},
   "outputs": [],
   "source": [
    "a0 = kron(I, I, sigma_minus)         # site 0\n",
    "a1 = kron(I, Z, sigma_minus)         # site 1\n",
    "a2 = kron(Z, Z, sigma_minus)         # site 2\n"
   ]
  },
  {
   "cell_type": "code",
   "execution_count": 96,
   "metadata": {},
   "outputs": [],
   "source": [
    "L6 = [a0_dag, a1_dag, a2_dag, a0, a1, a2]\n"
   ]
  },
  {
   "cell_type": "code",
   "execution_count": 98,
   "metadata": {},
   "outputs": [
    {
     "name": "stdout",
     "output_type": "stream",
     "text": [
      "[0.        +0.j 0.57735027+0.j 0.57735027+0.j 0.        +0.j\n",
      " 0.57735027+0.j 0.        +0.j 0.        +0.j 0.        +0.j]\n"
     ]
    }
   ],
   "source": [
    "psi5 = np.zeros(8, dtype=complex)\n",
    "psi5[1] = 1/np.sqrt(3)  # |001>\n",
    "psi5[2] = 1/np.sqrt(3)  # |010>\n",
    "psi5[4] = 1/np.sqrt(3)  # |100>\n",
    "print(psi5)"
   ]
  },
  {
   "cell_type": "code",
   "execution_count": 99,
   "metadata": {},
   "outputs": [
    {
     "name": "stdout",
     "output_type": "stream",
     "text": [
      "2-point correlation matrix C:\n",
      "[[ 0.66666667+0.j  0.        +0.j -0.66666667+0.j]\n",
      " [ 0.        +0.j  0.66666667+0.j  0.        +0.j]\n",
      " [-0.66666667+0.j  0.        +0.j  0.66666667+0.j]]\n",
      "(a†_1 a†_2 a_1 a_2) = 0j\n",
      "Wick prediction = (-0.4444444444444447+0j)\n",
      "Difference = 0.4444444444444447\n"
     ]
    },
    {
     "data": {
      "text/plain": [
       "np.False_"
      ]
     },
     "execution_count": 99,
     "metadata": {},
     "output_type": "execute_result"
    }
   ],
   "source": [
    "check_fgs_given_ops(psi5, L6)"
   ]
  },
  {
   "cell_type": "code",
   "execution_count": null,
   "metadata": {},
   "outputs": [
    {
     "name": "stdout",
     "output_type": "stream",
     "text": [
      "True\n"
     ]
    }
   ],
   "source": [
    "import numpy as np\n",
    "from functools import reduce\n",
    "\n",
    "def fermionic_dirac_ops(N: int, sparse: bool = False):\n",
    "    # 1‑qubit building blocks\n",
    "    I  = np.array([[1, 0],\n",
    "                   [0, 1]], dtype=complex)\n",
    "    Z  = np.array([[1, 0],\n",
    "                   [0,-1]], dtype=complex)\n",
    "    sigma_plus  = np.array([[0, 1],\n",
    "                            [0, 0]], dtype=complex)         \n",
    "    sigma_minus = np.array([[0, 0],\n",
    "                            [1, 0]], dtype=complex)          \n",
    "\n",
    "    if sparse:\n",
    "        from scipy import sparse\n",
    "        kron = sparse.kron\n",
    "        I, Z = map(sparse.csr_matrix, (I, Z))\n",
    "        sigma_plus  = sparse.csr_matrix(sigma_plus)\n",
    "        sigma_minus = sparse.csr_matrix(sigma_minus)\n",
    "    else:\n",
    "        kron = np.kron\n",
    "\n",
    "    def jw_op(j, single_op):\n",
    "        \n",
    "        left  = reduce(kron, [Z]*j, 1) if j > 0 else 1          \n",
    "        middle = single_op                                      \n",
    "        right = reduce(kron, [I]*(N-j-1), 1) if j < N-1 else 1   \n",
    "        return reduce(kron, (left, middle, right))\n",
    "\n",
    "    creators   = [jw_op(j, sigma_plus)  for j in range(N)]\n",
    "    annihilators = [jw_op(j, sigma_minus) for j in range(N)]\n",
    "\n",
    "    return creators + annihilators      \n",
    "\n"
   ]
  },
  {
   "cell_type": "code",
   "execution_count": 115,
   "metadata": {},
   "outputs": [],
   "source": [
    "L5 = fermionic_dirac_ops(2)"
   ]
  },
  {
   "cell_type": "code",
   "execution_count": 24,
   "metadata": {},
   "outputs": [
    {
     "name": "stdout",
     "output_type": "stream",
     "text": [
      "[[0.-0.j 0.-0.j 0.-0.j 0.-0.j]\n",
      " [0.-0.j 0.-0.j 0.-0.j 0.-0.j]\n",
      " [1.-0.j 0.-0.j 0.-0.j 0.-0.j]\n",
      " [0.-0.j 1.-0.j 0.-0.j 0.-0.j]]\n",
      "[[ 0.-0.j  0.-0.j  0.-0.j  0.-0.j]\n",
      " [ 1.-0.j  0.-0.j  0.-0.j  0.-0.j]\n",
      " [ 0.-0.j  0.-0.j -0.-0.j -0.-0.j]\n",
      " [ 0.-0.j  0.-0.j -1.-0.j -0.-0.j]]\n",
      "[[0.+0.j 0.+0.j 1.+0.j 0.+0.j]\n",
      " [0.+0.j 0.+0.j 0.+0.j 1.+0.j]\n",
      " [0.+0.j 0.+0.j 0.+0.j 0.+0.j]\n",
      " [0.+0.j 0.+0.j 0.+0.j 0.+0.j]]\n",
      "[[ 0.+0.j  1.+0.j  0.+0.j  0.+0.j]\n",
      " [ 0.+0.j  0.+0.j  0.+0.j  0.+0.j]\n",
      " [ 0.+0.j  0.+0.j -0.+0.j -1.+0.j]\n",
      " [ 0.+0.j  0.+0.j -0.+0.j -0.+0.j]]\n"
     ]
    }
   ],
   "source": [
    "Fer_DI = ff.jordan_wigner_alphas(2)\n",
    "for i in range(len(Fer_DI)):\n",
    "    print(Fer_DI[i])"
   ]
  },
  {
   "cell_type": "code",
   "execution_count": null,
   "metadata": {},
   "outputs": [],
   "source": []
  }
 ],
 "metadata": {
  "kernelspec": {
   "display_name": "Python 3",
   "language": "python",
   "name": "python3"
  },
  "language_info": {
   "codemirror_mode": {
    "name": "ipython",
    "version": 3
   },
   "file_extension": ".py",
   "mimetype": "text/x-python",
   "name": "python",
   "nbconvert_exporter": "python",
   "pygments_lexer": "ipython3",
   "version": "3.13.1"
  }
 },
 "nbformat": 4,
 "nbformat_minor": 2
}
