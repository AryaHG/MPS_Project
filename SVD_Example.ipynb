{
 "cells": [
  {
   "cell_type": "markdown",
   "metadata": {},
   "source": [
    "First Example:\n",
    "\n",
    "Find the SVD of the given matrix:  \n",
    "C = $\\begin{bmatrix} 3 & 2 & 2 \\\\ 2 & 3 & -2 \\end{bmatrix}$\n",
    "\n",
    "Using the two famous formulas for SVD we know:  \n",
    "\n",
    "1. $C^T$ $C$ = $V$ $\\sum^T$ $\\sum$ $V^T$  \n",
    "  \n",
    "2. $C$ $V$ = $U$ $\\sum$  \n",
    "\n",
    "  \n",
    "  \n",
    "We start from the first equation:  \n",
    "$C^T$ = $\\begin{bmatrix} 3 & 2 \\\\ 2 & 3 \\\\ 2 & -2 \\end{bmatrix}$  \n",
    "  \n",
    "\n",
    "A = $C^T$ $C$ = $\\begin{bmatrix} 3 & 2 \\\\ 2 & 3 \\\\ 2 & -2 \\end{bmatrix}$ $\\begin{bmatrix} 3 & 2 & 2 \\\\ 2 & 3 & -2 \\end{bmatrix}$ = $\\begin{bmatrix} 13 & 12 & 2 \\\\ 12 & 13 & -2 \\\\ 2 & -2 & 8 \\end{bmatrix}$  \n",
    "  \n",
    "\n",
    "Next step, we have to diagonalize this matrix:"
   ]
  },
  {
   "cell_type": "code",
   "execution_count": 71,
   "metadata": {},
   "outputs": [
    {
     "data": {
      "text/plain": [
       "3×3 Matrix{Float64}:\n",
       " 13.0  12.0   2.0\n",
       " 12.0  13.0  -2.0\n",
       "  2.0  -2.0   8.0"
      ]
     },
     "metadata": {},
     "output_type": "display_data"
    }
   ],
   "source": [
    "#Diagonalizing the Matrix A\n",
    "using LinearAlgebra\n",
    "\n",
    "A = [13 12 2; 12 13 -2; 2 -2 8]\n",
    "F = eigen(A)\n",
    "V = F.vectors\n",
    "D = Diagonal(F.values)\n",
    "\n",
    "A_reconstructed = F.vectors * Diagonal(F.values) * inv(F.vectors)\n"
   ]
  },
  {
   "cell_type": "markdown",
   "metadata": {},
   "source": [
    "Since this diagonal eigenvalues is equal to :\n",
    "$D$ = $\\sum^T$ $\\sum$  \n",
    "And we know $\\sum$ is diagonal, the entries of $\\sum$ will be the square root of entries of $D$"
   ]
  },
  {
   "cell_type": "code",
   "execution_count": 72,
   "metadata": {},
   "outputs": [
    {
     "name": "stdout",
     "output_type": "stream",
     "text": [
      "Sigma =\n"
     ]
    },
    {
     "data": {
      "text/plain": [
       "3×3 Diagonal{Float64, Vector{Float64}}:\n",
       " 0.0   ⋅    ⋅ \n",
       "  ⋅   3.0   ⋅ \n",
       "  ⋅    ⋅   5.0"
      ]
     },
     "metadata": {},
     "output_type": "display_data"
    }
   ],
   "source": [
    "#Displaying Sigma Part of the SVD\n",
    "Sigma = Diagonal(sqrt.(D))\n",
    "println(\"Sigma =\")\n",
    "Sigma_cut = map(x -> abs(x) < 1e-7 ? 0.0 : x, Sigma)\n",
    "\n"
   ]
  },
  {
   "cell_type": "code",
   "execution_count": 73,
   "metadata": {},
   "outputs": [
    {
     "name": "stdout",
     "output_type": "stream",
     "text": [
      "V =\n"
     ]
    },
    {
     "data": {
      "text/plain": [
       "3×3 Matrix{Float64}:\n",
       "  0.666667   0.235702  0.707107\n",
       " -0.666667  -0.235702  0.707107\n",
       " -0.333333   0.942809  0.0"
      ]
     },
     "metadata": {},
     "output_type": "display_data"
    }
   ],
   "source": [
    "#Displaying V Part of the SVD\n",
    "\n",
    "println(\"V =\")\n",
    "V_cut = map(x -> abs(x) < 1e-10 ? 0.0 : x, V)"
   ]
  },
  {
   "cell_type": "markdown",
   "metadata": {},
   "source": [
    "Now that we have the V matrix and &\\sum& matrix, we use the seconde equation to find the last part of the SVD, U matrix.  \n",
    "  \n",
    "$C$ $V$ = $U$ $\\sum$\n",
    "  \n",
    "$\\begin{bmatrix} 3 & 2 & 2 \\\\ 2 & 3 & -2 \\end{bmatrix}$ $\\begin{bmatrix} 0.666667 &  0.235702 & 0.707107\\\\ -0.666667 & -0.235702 & 0.707107 \\\\ -0.333333 &  0.942809 & 0.0\\end{bmatrix}$ = $U$ $\\begin{bmatrix} 0 & 0 & 0 \\\\ 0 & 3 & 0 \\\\ 0 & 0 & 5\\end{bmatrix}$\n"
   ]
  },
  {
   "cell_type": "code",
   "execution_count": 74,
   "metadata": {},
   "outputs": [
    {
     "data": {
      "text/plain": [
       "2×3 Matrix{Float64}:\n",
       " 0.0   2.12132  3.53553\n",
       " 0.0  -2.12132  3.53553"
      ]
     },
     "metadata": {},
     "output_type": "display_data"
    }
   ],
   "source": [
    "C = [3 2 2; 2 3 -2]\n",
    "H = C * V_cut\n",
    "H_cut = map(x -> abs(x) < 1e-10 ? 0.0 : x, H)"
   ]
  },
  {
   "cell_type": "code",
   "execution_count": 75,
   "metadata": {},
   "outputs": [
    {
     "data": {
      "text/plain": [
       "2×3 Matrix{Float64}:\n",
       " 0.0   0.707107  0.707107\n",
       " 0.0  -0.707107  0.707107"
      ]
     },
     "metadata": {},
     "output_type": "display_data"
    },
    {
     "name": "stdout",
     "output_type": "stream",
     "text": [
      "U = \n"
     ]
    }
   ],
   "source": [
    "Sigma = [0 0 0; 0 3 0; 0 0 5]\n",
    "U = zeros(2, 3)\n",
    "for i in 1:2  \n",
    "    U[i, 2] = H_cut[i, 2] / Sigma[2, 2]\n",
    "    U[i, 3] = H_cut[i, 3] / Sigma[3, 3]\n",
    "end\n",
    "U[:, 1] .= 0.0\n",
    "println(\"U = \")\n",
    "\n",
    "display(U)"
   ]
  },
  {
   "cell_type": "code",
   "execution_count": 76,
   "metadata": {},
   "outputs": [
    {
     "data": {
      "text/plain": [
       "2×3 Matrix{Float64}:\n",
       " 3.0  2.0   2.0\n",
       " 2.0  3.0  -2.0"
      ]
     },
     "metadata": {},
     "output_type": "display_data"
    }
   ],
   "source": [
    "C_reconstructed = U * Sigma * transpose(V_cut)"
   ]
  },
  {
   "cell_type": "code",
   "execution_count": 77,
   "metadata": {},
   "outputs": [],
   "source": []
  }
 ],
 "metadata": {
  "kernelspec": {
   "display_name": "Julia 1.11.4",
   "language": "julia",
   "name": "julia-1.11"
  },
  "language_info": {
   "file_extension": ".jl",
   "mimetype": "application/julia",
   "name": "julia",
   "version": "1.11.4"
  }
 },
 "nbformat": 4,
 "nbformat_minor": 2
}
