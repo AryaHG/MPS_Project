{
 "cells": [
  {
   "cell_type": "code",
   "execution_count": 12,
   "metadata": {},
   "outputs": [
    {
     "name": "stdout",
     "output_type": "stream",
     "text": [
      "Requirement already satisfied: pip in /Library/Frameworks/Python.framework/Versions/3.13/lib/python3.13/site-packages (25.0.1)\n",
      "Collecting pip\n",
      "  Using cached pip-25.1.1-py3-none-any.whl.metadata (3.6 kB)\n",
      "Using cached pip-25.1.1-py3-none-any.whl (1.8 MB)\n",
      "Installing collected packages: pip\n",
      "  Attempting uninstall: pip\n",
      "    Found existing installation: pip 25.0.1\n",
      "    Uninstalling pip-25.0.1:\n",
      "      Successfully uninstalled pip-25.0.1\n",
      "Successfully installed pip-25.1.1\n",
      "Requirement already satisfied: stim in /Library/Frameworks/Python.framework/Versions/3.13/lib/python3.13/site-packages (1.15.0)\n",
      "Requirement already satisfied: numpy in /Library/Frameworks/Python.framework/Versions/3.13/lib/python3.13/site-packages (from stim) (2.2.1)\n",
      "Requirement already satisfied: qiskit in /Library/Frameworks/Python.framework/Versions/3.13/lib/python3.13/site-packages (2.0.1)\n",
      "Requirement already satisfied: rustworkx>=0.15.0 in /Library/Frameworks/Python.framework/Versions/3.13/lib/python3.13/site-packages (from qiskit) (0.16.0)\n",
      "Requirement already satisfied: numpy<3,>=1.17 in /Library/Frameworks/Python.framework/Versions/3.13/lib/python3.13/site-packages (from qiskit) (2.2.1)\n",
      "Requirement already satisfied: scipy>=1.5 in /Library/Frameworks/Python.framework/Versions/3.13/lib/python3.13/site-packages (from qiskit) (1.15.2)\n",
      "Requirement already satisfied: sympy>=1.3 in /Library/Frameworks/Python.framework/Versions/3.13/lib/python3.13/site-packages (from qiskit) (1.14.0)\n",
      "Requirement already satisfied: dill>=0.3 in /Library/Frameworks/Python.framework/Versions/3.13/lib/python3.13/site-packages (from qiskit) (0.4.0)\n",
      "Requirement already satisfied: python-dateutil>=2.8.0 in /Library/Frameworks/Python.framework/Versions/3.13/lib/python3.13/site-packages (from qiskit) (2.9.0.post0)\n",
      "Requirement already satisfied: stevedore>=3.0.0 in /Library/Frameworks/Python.framework/Versions/3.13/lib/python3.13/site-packages (from qiskit) (5.4.1)\n",
      "Requirement already satisfied: typing-extensions in /Library/Frameworks/Python.framework/Versions/3.13/lib/python3.13/site-packages (from qiskit) (4.13.0)\n",
      "Requirement already satisfied: symengine<0.14,>=0.11 in /Library/Frameworks/Python.framework/Versions/3.13/lib/python3.13/site-packages (from qiskit) (0.13.0)\n",
      "Requirement already satisfied: six>=1.5 in /Library/Frameworks/Python.framework/Versions/3.13/lib/python3.13/site-packages (from python-dateutil>=2.8.0->qiskit) (1.17.0)\n",
      "Requirement already satisfied: pbr>=2.0.0 in /Library/Frameworks/Python.framework/Versions/3.13/lib/python3.13/site-packages (from stevedore>=3.0.0->qiskit) (6.1.1)\n",
      "Requirement already satisfied: setuptools in /Library/Frameworks/Python.framework/Versions/3.13/lib/python3.13/site-packages (from pbr>=2.0.0->stevedore>=3.0.0->qiskit) (78.1.0)\n",
      "Requirement already satisfied: mpmath<1.4,>=1.1.0 in /Library/Frameworks/Python.framework/Versions/3.13/lib/python3.13/site-packages (from sympy>=1.3->qiskit) (1.3.0)\n"
     ]
    }
   ],
   "source": [
    "!pip install --upgrade pip\n",
    "!pip install stim\n",
    "!pip install qiskit"
   ]
  },
  {
   "cell_type": "code",
   "execution_count": 3,
   "metadata": {},
   "outputs": [
    {
     "name": "stdout",
     "output_type": "stream",
     "text": [
      "     ┌───┐     ┌───┐     ┌───┐┌───┐\n",
      "q_0: ┤ X ├──■──┤ S ├──■──┤ Y ├┤ X ├\n",
      "     ├───┤┌─┴─┐├───┤┌─┴─┐├───┤└─┬─┘\n",
      "q_1: ┤ H ├┤ X ├┤ S ├┤ X ├┤ S ├──■──\n",
      "     └───┘└───┘└───┘└───┘└───┘     \n",
      "Initial state: Statevector([1.+0.j, 0.+0.j, 0.+0.j, 0.+0.j],\n",
      "            dims=(2, 2))\n",
      "Final state: Statevector([0.+0.70710678j, 0.+0.j        , 0.+0.j        ,\n",
      "             0.+0.70710678j],\n",
      "            dims=(2, 2))\n"
     ]
    }
   ],
   "source": [
    "import random\n",
    "from qiskit import QuantumCircuit\n",
    "from qiskit.quantum_info import Statevector\n",
    "\n",
    "#number of qubits\n",
    "n = 2\n",
    "#number of layers\n",
    "depth = 3\n",
    "#the initial quantum circuit\n",
    "qc= QuantumCircuit(n)\n",
    "#Building a random quantum circuit\n",
    "for i in range(depth):\n",
    "    for j in range(n):\n",
    "        gate = random.choice(['h', 'x', 'y', 'z', 's'])\n",
    "        if gate == 'h':\n",
    "            qc.h(j)\n",
    "        elif gate == 'x':\n",
    "            qc.x(j)\n",
    "        elif gate == 'y':\n",
    "            qc.y(j)\n",
    "        elif gate == 'z':\n",
    "            qc.z(j)\n",
    "        elif gate == 's':\n",
    "            qc.s(j)\n",
    "\n",
    "    for q in range(n//2):\n",
    "        q1, q2 = random.sample(range(n), 2)\n",
    "        qc.cx(q1, q2)\n",
    "\n",
    "print (qc)\n",
    "\n",
    "#initial state\n",
    "initial_state = Statevector.from_label(\"0\" * n)\n",
    "print (\"Initial state:\", initial_state)\n",
    "final_state = initial_state.evolve(qc)\n",
    "print (\"Final state:\", final_state)"
   ]
  },
  {
   "cell_type": "code",
   "execution_count": 2,
   "metadata": {},
   "outputs": [],
   "source": [
    "# stroring the final state in a text file\n",
    "with open(\"cl.txt\", \"w\") as f:\n",
    "    for amp in final_state.data:\n",
    "        real = amp.real\n",
    "        imag = amp.imag\n",
    "        f.write(f\"{real:.6f} + {imag:.6f}im\\n\")\n"
   ]
  },
  {
   "cell_type": "markdown",
   "metadata": {},
   "source": [
    "### Getting the cliffords operator Tableau form"
   ]
  },
  {
   "cell_type": "code",
   "execution_count": 8,
   "metadata": {},
   "outputs": [
    {
     "data": {
      "text/plain": [
       "Clifford(array([[ True, False, False,  True, False],\n",
       "       [False, False, False,  True, False],\n",
       "       [False, False,  True,  True, False],\n",
       "       [ True,  True,  True,  True,  True]]))"
      ]
     },
     "execution_count": 8,
     "metadata": {},
     "output_type": "execute_result"
    }
   ],
   "source": [
    "C = Clifford(qc)\n",
    "C\n"
   ]
  },
  {
   "cell_type": "code",
   "execution_count": null,
   "metadata": {},
   "outputs": [
    {
     "ename": "_IncompleteInputError",
     "evalue": "incomplete input (3351824082.py, line 4)",
     "output_type": "error",
     "traceback": [
      "  \u001b[36mCell\u001b[39m\u001b[36m \u001b[39m\u001b[32mIn[13]\u001b[39m\u001b[32m, line 4\u001b[39m\n\u001b[31m    \u001b[39m\u001b[31mdef zero_state_stabilizers(n):\u001b[39m\n                                  ^\n\u001b[31m_IncompleteInputError\u001b[39m\u001b[31m:\u001b[39m incomplete input\n"
     ]
    }
   ],
   "source": [
    "import numpy as np\n",
    "from qiskit.quantum_info import PauliList\n",
    "\n",
    "\n",
    "def zero_state_stabilizers(n):\n",
    "    "
   ]
  },
  {
   "cell_type": "code",
   "execution_count": null,
   "metadata": {},
   "outputs": [],
   "source": []
  }
 ],
 "metadata": {
  "kernelspec": {
   "display_name": "Python 3",
   "language": "python",
   "name": "python3"
  },
  "language_info": {
   "codemirror_mode": {
    "name": "ipython",
    "version": 3
   },
   "file_extension": ".py",
   "mimetype": "text/x-python",
   "name": "python",
   "nbconvert_exporter": "python",
   "pygments_lexer": "ipython3",
   "version": "3.13.1"
  }
 },
 "nbformat": 4,
 "nbformat_minor": 2
}
