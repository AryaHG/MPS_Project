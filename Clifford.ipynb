{
 "cells": [
  {
   "cell_type": "code",
   "execution_count": 12,
   "metadata": {},
   "outputs": [
    {
     "name": "stdout",
     "output_type": "stream",
     "text": [
      "Requirement already satisfied: pip in /Library/Frameworks/Python.framework/Versions/3.13/lib/python3.13/site-packages (25.0.1)\n",
      "Collecting pip\n",
      "  Using cached pip-25.1.1-py3-none-any.whl.metadata (3.6 kB)\n",
      "Using cached pip-25.1.1-py3-none-any.whl (1.8 MB)\n",
      "Installing collected packages: pip\n",
      "  Attempting uninstall: pip\n",
      "    Found existing installation: pip 25.0.1\n",
      "    Uninstalling pip-25.0.1:\n",
      "      Successfully uninstalled pip-25.0.1\n",
      "Successfully installed pip-25.1.1\n",
      "Requirement already satisfied: stim in /Library/Frameworks/Python.framework/Versions/3.13/lib/python3.13/site-packages (1.15.0)\n",
      "Requirement already satisfied: numpy in /Library/Frameworks/Python.framework/Versions/3.13/lib/python3.13/site-packages (from stim) (2.2.1)\n",
      "Requirement already satisfied: qiskit in /Library/Frameworks/Python.framework/Versions/3.13/lib/python3.13/site-packages (2.0.1)\n",
      "Requirement already satisfied: rustworkx>=0.15.0 in /Library/Frameworks/Python.framework/Versions/3.13/lib/python3.13/site-packages (from qiskit) (0.16.0)\n",
      "Requirement already satisfied: numpy<3,>=1.17 in /Library/Frameworks/Python.framework/Versions/3.13/lib/python3.13/site-packages (from qiskit) (2.2.1)\n",
      "Requirement already satisfied: scipy>=1.5 in /Library/Frameworks/Python.framework/Versions/3.13/lib/python3.13/site-packages (from qiskit) (1.15.2)\n",
      "Requirement already satisfied: sympy>=1.3 in /Library/Frameworks/Python.framework/Versions/3.13/lib/python3.13/site-packages (from qiskit) (1.14.0)\n",
      "Requirement already satisfied: dill>=0.3 in /Library/Frameworks/Python.framework/Versions/3.13/lib/python3.13/site-packages (from qiskit) (0.4.0)\n",
      "Requirement already satisfied: python-dateutil>=2.8.0 in /Library/Frameworks/Python.framework/Versions/3.13/lib/python3.13/site-packages (from qiskit) (2.9.0.post0)\n",
      "Requirement already satisfied: stevedore>=3.0.0 in /Library/Frameworks/Python.framework/Versions/3.13/lib/python3.13/site-packages (from qiskit) (5.4.1)\n",
      "Requirement already satisfied: typing-extensions in /Library/Frameworks/Python.framework/Versions/3.13/lib/python3.13/site-packages (from qiskit) (4.13.0)\n",
      "Requirement already satisfied: symengine<0.14,>=0.11 in /Library/Frameworks/Python.framework/Versions/3.13/lib/python3.13/site-packages (from qiskit) (0.13.0)\n",
      "Requirement already satisfied: six>=1.5 in /Library/Frameworks/Python.framework/Versions/3.13/lib/python3.13/site-packages (from python-dateutil>=2.8.0->qiskit) (1.17.0)\n",
      "Requirement already satisfied: pbr>=2.0.0 in /Library/Frameworks/Python.framework/Versions/3.13/lib/python3.13/site-packages (from stevedore>=3.0.0->qiskit) (6.1.1)\n",
      "Requirement already satisfied: setuptools in /Library/Frameworks/Python.framework/Versions/3.13/lib/python3.13/site-packages (from pbr>=2.0.0->stevedore>=3.0.0->qiskit) (78.1.0)\n",
      "Requirement already satisfied: mpmath<1.4,>=1.1.0 in /Library/Frameworks/Python.framework/Versions/3.13/lib/python3.13/site-packages (from sympy>=1.3->qiskit) (1.3.0)\n"
     ]
    }
   ],
   "source": [
    "!pip install --upgrade pip\n",
    "!pip install stim\n",
    "!pip install qiskit"
   ]
  },
  {
   "cell_type": "code",
   "execution_count": 1,
   "metadata": {},
   "outputs": [],
   "source": [
    "dir = \"/Users/arya/Documents/Python/DATA\"\n"
   ]
  },
  {
   "cell_type": "code",
   "execution_count": 7,
   "metadata": {},
   "outputs": [
    {
     "name": "stdout",
     "output_type": "stream",
     "text": [
      "     ┌───┐┌───┐                                             ┌───┐┌───┐┌───┐»\n",
      "q_0: ┤ S ├┤ H ├──────────────────────────────────────────■──┤ X ├┤ S ├┤ Y ├»\n",
      "     ├───┤├───┤┌───┐                                     │  └─┬─┘├───┤├───┤»\n",
      "q_1: ┤ X ├┤ X ├┤ Y ├─────────────────────────────────────┼────┼──┤ X ├┤ Y ├»\n",
      "     ├───┤└───┘├───┤┌───┐┌───┐┌───┐┌───┐┌───┐┌───┐       │    │  └─┬─┘└───┘»\n",
      "q_2: ┤ Y ├─────┤ X ├┤ H ├┤ X ├┤ X ├┤ H ├┤ Y ├┤ S ├───────┼────┼────┼───────»\n",
      "     ├───┤     └─┬─┘├───┤└─┬─┘└───┘└───┘└───┘└───┘       │    │    │  ┌───┐»\n",
      "q_3: ┤ X ├──■────■──┤ X ├──■──────────────■──────────────┼────■────┼──┤ H ├»\n",
      "     ├───┤┌─┴─┐     └───┘┌───┐┌───┐┌───┐  │              │         │  └───┘»\n",
      "q_4: ┤ Y ├┤ X ├──■───────┤ X ├┤ Y ├┤ H ├──┼──────────────┼─────────┼───────»\n",
      "     ├───┤├───┤  │  ┌───┐└─┬─┘└───┘├───┤  │  ┌───┐       │         │       »\n",
      "q_5: ┤ H ├┤ X ├──┼──┤ H ├──┼───────┤ X ├──┼──┤ S ├───────┼─────────┼───────»\n",
      "     ├───┤└───┘┌─┴─┐└───┘  │  ┌───┐└─┬─┘  │  ├───┤┌───┐  │  ┌───┐  │       »\n",
      "q_6: ┤ Y ├─────┤ X ├───────■──┤ X ├──┼────┼──┤ Z ├┤ H ├──┼──┤ X ├──┼───────»\n",
      "     ├───┤┌───┐├───┤          └───┘  │    │  └───┘├───┤  │  └───┘  │  ┌───┐»\n",
      "q_7: ┤ Z ├┤ X ├┤ X ├─────────────────┼────┼────■──┤ Z ├──┼─────────■──┤ S ├»\n",
      "     ├───┤└─┬─┘├───┤┌───┐            │    │    │  └───┘  │            └───┘»\n",
      "q_8: ┤ Y ├──■──┤ S ├┤ X ├────────────■────┼────┼─────────┼─────────────────»\n",
      "     ├───┤┌───┐└───┘└───┘               ┌─┴─┐┌─┴─┐     ┌─┴─┐┌───┐┌───┐     »\n",
      "q_9: ┤ S ├┤ S ├─────────────────────────┤ X ├┤ X ├─────┤ X ├┤ X ├┤ X ├─────»\n",
      "     └───┘└───┘                         └───┘└───┘     └───┘└───┘└───┘     »\n",
      "«                    ┌───┐                              ┌───┐┌───┐┌───┐     »\n",
      "«q_0: ────────────■──┤ Z ├──────────────────────────────┤ X ├┤ Z ├┤ X ├─────»\n",
      "«     ┌───┐┌───┐  │  └───┘                              └─┬─┘└───┘└─┬─┘     »\n",
      "«q_1: ┤ X ├┤ H ├──┼───────────────────────────────────────┼─────────■───────»\n",
      "«     └───┘└───┘  │                                       │                 »\n",
      "«q_2: ────────────┼───────────────────────────────────────┼─────────────────»\n",
      "«     ┌───┐       │       ┌───┐┌───┐                      │                 »\n",
      "«q_3: ┤ X ├──■────┼────■──┤ Z ├┤ H ├──────────────────────┼──────────────■──»\n",
      "«     └─┬─┘  │    │  ┌─┴─┐├───┤├───┤┌───┐┌───┐┌───┐       │              │  »\n",
      "«q_4: ──■────┼────┼──┤ X ├┤ X ├┤ X ├┤ X ├┤ Z ├┤ X ├───────┼──────────────┼──»\n",
      "«            │  ┌─┴─┐├───┤├───┤└─┬─┘├───┤└───┘└─┬─┘       │              │  »\n",
      "«q_5: ───────┼──┤ X ├┤ X ├┤ S ├──┼──┤ X ├───────■─────────┼──────────────┼──»\n",
      "«            │  └───┘└─┬─┘└───┘  │  └───┘                 │              │  »\n",
      "«q_6: ───────┼─────────┼─────────┼───────────────────■────┼────■─────────┼──»\n",
      "«            │         │         │       ┌───┐┌───┐  │    │    │  ┌───┐  │  »\n",
      "«q_7: ───────┼─────────┼─────────■────■──┤ X ├┤ Y ├──┼────■────┼──┤ H ├──┼──»\n",
      "«          ┌─┴─┐┌───┐  │            ┌─┴─┐└─┬─┘├───┤┌─┴─┐┌───┐  │  └───┘  │  »\n",
      "«q_8: ─────┤ X ├┤ X ├──┼────────────┤ X ├──■──┤ Z ├┤ X ├┤ X ├──┼─────────┼──»\n",
      "«          └───┘└───┘  │  ┌───┐     └───┘     └───┘└───┘└───┘┌─┴─┐     ┌─┴─┐»\n",
      "«q_9: ─────────────────■──┤ S ├──────────────────────────────┤ X ├─────┤ X ├»\n",
      "«                         └───┘                              └───┘     └───┘»\n",
      "«                         \n",
      "«q_0: ────────────■───────\n",
      "«                 │       \n",
      "«q_1: ───────■────┼────■──\n",
      "«            │    │    │  \n",
      "«q_2: ───────┼────┼────┼──\n",
      "«     ┌───┐  │    │  ┌─┴─┐\n",
      "«q_3: ┤ H ├──┼────┼──┤ X ├\n",
      "«     └───┘  │    │  └───┘\n",
      "«q_4: ───────┼────┼───────\n",
      "«            │    │       \n",
      "«q_5: ───────┼────┼───────\n",
      "«            │    │  ┌───┐\n",
      "«q_6: ──■────┼────┼──┤ X ├\n",
      "«       │    │  ┌─┴─┐└───┘\n",
      "«q_7: ──┼────┼──┤ X ├─────\n",
      "«       │  ┌─┴─┐└───┘     \n",
      "«q_8: ──┼──┤ X ├──────────\n",
      "«     ┌─┴─┐├───┤          \n",
      "«q_9: ┤ X ├┤ Z ├──────────\n",
      "«     └───┘└───┘          \n",
      "Initial state: Statevector([1.+0.j, 0.+0.j, 0.+0.j, ..., 0.+0.j, 0.+0.j, 0.+0.j],\n",
      "            dims=(2, 2, 2, 2, 2, 2, 2, 2, 2, 2))\n",
      "Final state: Statevector([ 8.41828992e-19+0.00000000e+00j,\n",
      "              8.41828992e-19+0.00000000e+00j,\n",
      "             -8.41828992e-19+0.00000000e+00j, ...,\n",
      "              0.00000000e+00-1.47598751e-18j,\n",
      "              0.00000000e+00+1.47598751e-18j,\n",
      "              0.00000000e+00+1.47598751e-18j],\n",
      "            dims=(2, 2, 2, 2, 2, 2, 2, 2, 2, 2))\n"
     ]
    }
   ],
   "source": [
    "import random\n",
    "from qiskit import QuantumCircuit\n",
    "from qiskit.quantum_info import Statevector\n",
    "\n",
    "#number of qubits\n",
    "n = 10\n",
    "#number of layers\n",
    "depth = 6\n",
    "#the initial quantum circuit\n",
    "qc= QuantumCircuit(n)\n",
    "#Building a random quantum circuit\n",
    "for i in range(depth):\n",
    "    for j in range(n):\n",
    "        gate = random.choice(['h', 'x', 'y', 'z', 's'])\n",
    "        if gate == 'h':\n",
    "            qc.h(j)\n",
    "        elif gate == 'x':\n",
    "            qc.x(j)\n",
    "        elif gate == 'y':\n",
    "            qc.y(j)\n",
    "        elif gate == 'z':\n",
    "            qc.z(j)\n",
    "        elif gate == 's':\n",
    "            qc.s(j)\n",
    "\n",
    "    for q in range(n//2):\n",
    "        q1, q2 = random.sample(range(n), 2)\n",
    "        qc.cx(q1, q2)\n",
    "\n",
    "print (qc)\n",
    "\n",
    "#initial state\n",
    "initial_state = Statevector.from_label(\"0\" * n)\n",
    "print (\"Initial state:\", initial_state)\n",
    "final_state = initial_state.evolve(qc)\n",
    "print (\"Final state:\", final_state)"
   ]
  },
  {
   "cell_type": "code",
   "execution_count": 8,
   "metadata": {},
   "outputs": [],
   "source": [
    "# stroring the final state in a text file\n",
    "cl_file = dir + \"/cl.txt\"\n",
    "\n",
    "with open(cl_file, \"w\") as f:\n",
    "    for amp in final_state.data:\n",
    "        real = amp.real\n",
    "        imag = amp.imag\n",
    "        f.write(f\"{real:.6f} + {imag:.6f}im\\n\")\n"
   ]
  },
  {
   "cell_type": "markdown",
   "metadata": {},
   "source": [
    "### Getting the cliffords operator Tableau form"
   ]
  },
  {
   "cell_type": "code",
   "execution_count": 11,
   "metadata": {},
   "outputs": [
    {
     "data": {
      "text/plain": [
       "Clifford(array([[False, False, False, False,  True, False, False, False,  True,\n",
       "         True,  True, False, False, False, False, False, False,  True,\n",
       "        False,  True,  True],\n",
       "       [False, False, False, False, False, False, False, False, False,\n",
       "        False, False,  True, False, False, False, False, False, False,\n",
       "        False, False, False],\n",
       "       [ True, False,  True,  True,  True, False, False,  True,  True,\n",
       "        False,  True, False,  True, False, False, False, False,  True,\n",
       "        False, False,  True],\n",
       "       [False, False,  True, False,  True, False, False, False,  True,\n",
       "         True, False, False, False, False,  True,  True, False,  True,\n",
       "         True,  True,  True],\n",
       "       [False, False, False, False, False, False, False, False, False,\n",
       "        False, False, False, False, False, False, False,  True, False,\n",
       "        False, False, False],\n",
       "       [False, False, False,  True,  True,  True, False,  True, False,\n",
       "        False,  True,  True, False, False, False, False, False, False,\n",
       "        False,  True, False],\n",
       "       [False, False, False, False, False, False, False,  True, False,\n",
       "         True, False, False, False,  True,  True,  True, False, False,\n",
       "         True, False,  True],\n",
       "       [False, False, False,  True, False,  True, False,  True,  True,\n",
       "         True, False, False, False, False, False,  True,  True, False,\n",
       "         True,  True, False],\n",
       "       [ True, False, False, False,  True, False, False, False, False,\n",
       "        False, False, False, False,  True, False,  True,  True,  True,\n",
       "         True, False, False],\n",
       "       [False, False, False,  True,  True,  True, False, False, False,\n",
       "         True, False, False, False, False, False,  True, False, False,\n",
       "        False,  True,  True],\n",
       "       [ True, False, False,  True, False, False, False, False, False,\n",
       "         True,  True,  True, False, False, False, False, False, False,\n",
       "        False,  True,  True],\n",
       "       [ True,  True, False,  True, False, False, False, False,  True,\n",
       "        False, False,  True, False, False, False, False,  True, False,\n",
       "         True, False,  True],\n",
       "       [ True, False, False,  True,  True, False, False,  True,  True,\n",
       "        False,  True, False,  True, False, False, False, False,  True,\n",
       "        False, False,  True],\n",
       "       [ True, False, False,  True,  True, False, False,  True,  True,\n",
       "        False,  True, False, False, False, False, False, False,  True,\n",
       "        False, False, False],\n",
       "       [False, False, False, False,  True, False,  True, False,  True,\n",
       "        False, False, False, False, False, False, False, False, False,\n",
       "        False, False,  True],\n",
       "       [False, False, False,  True, False, False, False, False, False,\n",
       "         True,  True, False, False,  True, False,  True, False, False,\n",
       "        False,  True, False],\n",
       "       [ True, False, False,  True, False, False, False,  True,  True,\n",
       "        False,  True, False, False, False, False, False, False,  True,\n",
       "        False, False,  True],\n",
       "       [False, False, False, False, False, False, False, False, False,\n",
       "         True, False, False, False,  True, False, False,  True, False,\n",
       "         True, False, False],\n",
       "       [False, False, False, False, False, False, False,  True, False,\n",
       "         True, False,  True, False,  True, False, False, False, False,\n",
       "        False, False,  True],\n",
       "       [False, False, False,  True, False, False, False, False, False,\n",
       "        False,  True, False, False, False, False, False,  True, False,\n",
       "         True,  True, False]]))"
      ]
     },
     "execution_count": 11,
     "metadata": {},
     "output_type": "execute_result"
    }
   ],
   "source": [
    "from qiskit.quantum_info import Clifford\n",
    "\n",
    "C = Clifford(qc)\n",
    "C\n"
   ]
  },
  {
   "cell_type": "markdown",
   "metadata": {},
   "source": [
    "### Stabilizer Pauli Strings for zero state"
   ]
  },
  {
   "cell_type": "code",
   "execution_count": 5,
   "metadata": {},
   "outputs": [],
   "source": [
    "import numpy as np\n",
    "from qiskit.quantum_info import PauliList\n",
    "\n",
    "\n",
    "def zero_state_stabilizers(n):\n",
    "    #Creating all the binary combinations of length n\n",
    "    combos = np.array(np.meshgrid(*[[0, 1]] * n)).T.reshape(-1, n)\n",
    "\n",
    "    #Making the pauli_string equivalent\n",
    "    stabilizers = []\n",
    "    for c in combos:\n",
    "        pauli_str = ''.join(['Z' if bit == 1 else 'I' for bit in c])\n",
    "        stabilizers.append(pauli_str)\n",
    "\n",
    "    return PauliList(stabilizers)\n",
    "    "
   ]
  },
  {
   "cell_type": "code",
   "execution_count": 13,
   "metadata": {},
   "outputs": [],
   "source": [
    "S = zero_state_stabilizers(10)"
   ]
  },
  {
   "cell_type": "markdown",
   "metadata": {},
   "source": [
    "### Stabilizer Pauli Strings for our given state"
   ]
  },
  {
   "cell_type": "code",
   "execution_count": 14,
   "metadata": {},
   "outputs": [],
   "source": [
    "P = S.evolve(C, frame='conjugate')"
   ]
  },
  {
   "cell_type": "code",
   "execution_count": 15,
   "metadata": {},
   "outputs": [
    {
     "name": "stdout",
     "output_type": "stream",
     "text": [
      "['IIIIIIIIII', '-IIZXIXYYXZ', '-ZXYZXIZIIY', '-ZXXYXXXYXX', 'IXZYZIXYII', '-IXIZZXZIXZ', '-ZIXXYIYYIY', 'ZIYIYXIIXX', 'IIIIIXIIII', '-IIZXIIYYXZ']\n",
      "Total: 1024\n"
     ]
    }
   ],
   "source": [
    "print(P.to_labels()[:10])\n",
    "print(\"Total:\", len(P))"
   ]
  },
  {
   "cell_type": "code",
   "execution_count": 17,
   "metadata": {},
   "outputs": [
    {
     "name": "stdout",
     "output_type": "stream",
     "text": [
      "Saved binary matrices for X and Z parts.\n"
     ]
    }
   ],
   "source": [
    "X = P.x.astype(int)\n",
    "Z = P.z.astype(int)\n",
    "\n",
    "np.savetxt(\"P_X_matrix.txt\", X, fmt=\"%d\")\n",
    "np.savetxt(\"P_Z_matrix.txt\", Z, fmt=\"%d\")\n",
    "\n",
    "print(\"Saved binary matrices for X and Z parts.\")\n"
   ]
  },
  {
   "cell_type": "code",
   "execution_count": null,
   "metadata": {},
   "outputs": [],
   "source": []
  }
 ],
 "metadata": {
  "kernelspec": {
   "display_name": "Python 3",
   "language": "python",
   "name": "python3"
  },
  "language_info": {
   "codemirror_mode": {
    "name": "ipython",
    "version": 3
   },
   "file_extension": ".py",
   "mimetype": "text/x-python",
   "name": "python",
   "nbconvert_exporter": "python",
   "pygments_lexer": "ipython3",
   "version": "3.13.1"
  }
 },
 "nbformat": 4,
 "nbformat_minor": 2
}
