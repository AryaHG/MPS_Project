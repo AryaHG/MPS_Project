{
 "cells": [
  {
   "cell_type": "markdown",
   "metadata": {},
   "source": [
    "# Generating a random fermionic guassian statevector"
   ]
  },
  {
   "cell_type": "code",
   "execution_count": 1,
   "metadata": {},
   "outputs": [
    {
     "name": "stderr",
     "output_type": "stream",
     "text": [
      "\u001b[32m\u001b[1m    Updating\u001b[22m\u001b[39m registry at `~/.julia/registries/General.toml`\n",
      "\u001b[32m\u001b[1m   Resolving\u001b[22m\u001b[39m package versions...\n",
      "\u001b[32m\u001b[1m  No Changes\u001b[22m\u001b[39m to `~/.julia/environments/v1.11/Project.toml`\n",
      "\u001b[32m\u001b[1m  No Changes\u001b[22m\u001b[39m to `~/.julia/environments/v1.11/Manifest.toml`\n"
     ]
    }
   ],
   "source": [
    "using Pkg\n",
    "Pkg.add(\"StatsBase\")"
   ]
  },
  {
   "cell_type": "code",
   "execution_count": 1,
   "metadata": {},
   "outputs": [],
   "source": [
    "using LinearAlgebra"
   ]
  },
  {
   "cell_type": "markdown",
   "metadata": {},
   "source": [
    "#### Generating a random Hermitian matrix (A)"
   ]
  },
  {
   "cell_type": "code",
   "execution_count": 11,
   "metadata": {},
   "outputs": [
    {
     "data": {
      "text/plain": [
       "1024×1024 Matrix{ComplexF64}:\n",
       "  -1.21017+0.0im          -0.309466+0.336151im    …   -0.019518+0.158111im\n",
       " -0.309466-0.336151im     -0.417458+0.0im             0.0491206-0.258792im\n",
       " -0.445915-0.583953im      0.301703-0.210804im         0.356704-0.0568846im\n",
       " -0.660574-0.245032im     0.0530527-0.0145032im       -0.218359+1.15003im\n",
       "   1.30166-0.46262im      -0.396141+0.273695im       -0.0346118-0.402597im\n",
       "  0.685719+1.05222im      -0.357303-0.435371im    …   -0.676776+0.166726im\n",
       " -0.960061-0.645463im     -0.530736+0.15431im          0.184432-0.121276im\n",
       " -0.198323-0.0578778im    -0.130443+0.209938im        -0.155044-0.573661im\n",
       " -0.269838+0.458594im      0.845215-0.553036im        -0.432985-0.448655im\n",
       " -0.485633+0.220702im      0.518129-0.0035811im       -0.483053-0.311638im\n",
       "          ⋮                                       ⋱  \n",
       " 0.0756083-0.0685084im    0.0385101+0.186192im    …   0.0740151-0.240705im\n",
       " 0.0328126-0.610523im   -0.00253947-0.00599347im       0.273999-1.44749im\n",
       " -0.103577+0.288719im     -0.232144+0.62891im          -0.53044+0.708296im\n",
       " -0.180574-0.248469im     -0.402765+0.639322im        -0.176404-0.606379im\n",
       "  0.468036-0.0154638im    -0.620217-0.350229im       -0.0335569+0.411641im\n",
       "  0.301495-0.27928im      -0.493706-0.69662im     …    0.517213+0.0766776im\n",
       "  0.357805+0.62695im      0.0217303-0.292926im         0.667578-0.215937im\n",
       " -0.525056+0.0628161im     0.489932-0.33897im          0.253818-0.0112865im\n",
       " -0.019518-0.158111im     0.0491206+0.258792im         0.335483+0.0im"
      ]
     },
     "metadata": {},
     "output_type": "display_data"
    }
   ],
   "source": [
    "function random_hermitian(N)\n",
    "    A = randn(ComplexF64, N, N)\n",
    "    H = (A + A') / 2\n",
    "    return H\n",
    "end\n",
    "A = random_hermitian(1024)"
   ]
  },
  {
   "cell_type": "markdown",
   "metadata": {},
   "source": [
    "#### Generating a random skew symmetric matrix (B)"
   ]
  },
  {
   "cell_type": "code",
   "execution_count": 12,
   "metadata": {},
   "outputs": [
    {
     "data": {
      "text/plain": [
       "1024×1024 Matrix{ComplexF64}:\n",
       "        0.0+0.0im          0.300273+0.301532im   …   -0.469705+0.894988im\n",
       "  -0.300273-0.301532im          0.0+0.0im             0.374988-0.154563im\n",
       "   0.534967+0.640312im   -0.0194911-0.420146im        -0.33352-0.222052im\n",
       "  -0.480616-0.442134im     0.273249-1.05511im        -0.896276+0.630676im\n",
       "  -0.015876-0.426539im     0.197663+0.520604im        0.410767+0.138671im\n",
       "    1.36372-0.716379im    -0.353179+0.188127im   …   0.0337865+0.650967im\n",
       "  -0.268867-0.104553im     0.433657+0.0392657im       0.278236+0.0450626im\n",
       "   0.452058+0.372497im   -0.0902551-1.09831im         0.747264+0.0764823im\n",
       "   -1.13674+0.280056im    -0.471873+0.325018im      -0.0320742-0.242353im\n",
       "  -0.163249-0.0670833im   -0.277138-0.0136684im       0.828956+0.288822im\n",
       "           ⋮                                     ⋱  \n",
       "  -0.764786+0.0970625im   0.0611746+0.0733633im  …    0.210953+0.0766554im\n",
       "   0.114526-0.156259im    0.0779839+0.0277641im       0.442453-0.682931im\n",
       "  -0.438889+0.826207im    0.0100062+1.29217im        -0.135807-0.318458im\n",
       "   0.132497+0.306755im    -0.860411-0.832791im       -0.954435+0.0255644im\n",
       " -0.0146666-0.4399im       0.485304+0.396609im        0.827975+0.69718im\n",
       "   0.262663-0.513445im    0.0159859-0.447205im   …   -0.876241-0.358555im\n",
       "   0.743091+0.590524im     0.628698-1.21178im       -0.0911364+1.19376im\n",
       " -0.0750333+0.25697im      0.155961+0.872583im       -0.108893-0.173953im\n",
       "   0.469705-0.894988im    -0.374988+0.154563im             0.0+0.0im"
      ]
     },
     "metadata": {},
     "output_type": "display_data"
    }
   ],
   "source": [
    "function random_skew_symmetric_complex(N)\n",
    "    A = randn(ComplexF64, N, N)\n",
    "    return (A - transpose(A)) / 2\n",
    "end\n",
    "B  = random_skew_symmetric_complex(1024)"
   ]
  },
  {
   "cell_type": "markdown",
   "metadata": {},
   "source": [
    "#### Constructing Hamiltonian based on A and B"
   ]
  },
  {
   "cell_type": "code",
   "execution_count": 13,
   "metadata": {},
   "outputs": [
    {
     "data": {
      "text/plain": [
       "2048×2048 Matrix{ComplexF64}:\n",
       "   1.21017+0.0im          0.309466+0.336151im   …   -0.469705+0.894988im\n",
       "  0.309466-0.336151im     0.417458+0.0im             0.374988-0.154563im\n",
       "  0.445915-0.583953im    -0.301703-0.210804im        -0.33352-0.222052im\n",
       "  0.660574-0.245032im   -0.0530527-0.0145032im      -0.896276+0.630676im\n",
       "  -1.30166-0.46262im      0.396141+0.273695im        0.410767+0.138671im\n",
       " -0.685719+1.05222im      0.357303-0.435371im   …   0.0337865+0.650967im\n",
       "  0.960061-0.645463im     0.530736+0.15431im         0.278236+0.0450626im\n",
       "  0.198323-0.0578778im    0.130443+0.209938im        0.747264+0.0764823im\n",
       "  0.269838+0.458594im    -0.845215-0.553036im      -0.0320742-0.242353im\n",
       "  0.485633+0.220702im    -0.518129-0.0035811im       0.828956+0.288822im\n",
       "          ⋮                                     ⋱  \n",
       "  0.764786+0.0970625im  -0.0611746+0.0733633im      0.0740151-0.240705im\n",
       " -0.114526-0.156259im   -0.0779839+0.0277641im  …    0.273999-1.44749im\n",
       "  0.438889+0.826207im   -0.0100062+1.29217im         -0.53044+0.708296im\n",
       " -0.132497+0.306755im     0.860411-0.832791im       -0.176404-0.606379im\n",
       " 0.0146666-0.4399im      -0.485304+0.396609im      -0.0335569+0.411641im\n",
       " -0.262663-0.513445im   -0.0159859-0.447205im        0.517213+0.0766776im\n",
       " -0.743091+0.590524im    -0.628698-1.21178im    …    0.667578-0.215937im\n",
       " 0.0750333+0.25697im     -0.155961+0.872583im        0.253818-0.0112865im\n",
       " -0.469705-0.894988im     0.374988+0.154563im        0.335483+0.0im"
      ]
     },
     "metadata": {},
     "output_type": "display_data"
    }
   ],
   "source": [
    "function construct_H(A::AbstractMatrix, B::AbstractMatrix)\n",
    "    n, m = size(A)\n",
    "    @assert size(B) == (n, m) \"A and B must be the same size\"\n",
    "\n",
    "    H = Matrix{eltype(A)}(undef, 2n, 2m)\n",
    "\n",
    "    # Fill in blocks directly\n",
    "    H[1:n, 1:m]     .= -conj.(A)\n",
    "    H[1:n, m+1:2m]  .= B\n",
    "    H[n+1:2n, 1:m]  .= -conj.(B)\n",
    "    H[n+1:2n, m+1:2m] .= A\n",
    "\n",
    "    return H\n",
    "end\n",
    "H = construct_H(A, B)"
   ]
  },
  {
   "cell_type": "markdown",
   "metadata": {},
   "source": [
    "#### Checking if the generated matrix is Hermitian"
   ]
  },
  {
   "cell_type": "code",
   "execution_count": 14,
   "metadata": {},
   "outputs": [
    {
     "data": {
      "text/plain": [
       "true"
      ]
     },
     "metadata": {},
     "output_type": "display_data"
    }
   ],
   "source": [
    "ishermitian(H)"
   ]
  },
  {
   "cell_type": "markdown",
   "metadata": {},
   "source": [
    "##### Constructing rho"
   ]
  },
  {
   "cell_type": "code",
   "execution_count": 15,
   "metadata": {},
   "outputs": [
    {
     "data": {
      "text/plain": [
       "2048×2048 Matrix{ComplexF64}:\n",
       "  0.000238328+0.0im          …    -6.2024e-6-0.000221598im\n",
       "   5.00221e-5-0.00014411im       -8.62595e-5-3.86008e-5im\n",
       "  -4.36494e-5-4.995e-5im          5.70648e-5+0.000332016im\n",
       "   1.75094e-5+0.00017093im        0.00047329-0.000183868im\n",
       "   9.90781e-6-0.00010147im      -0.000170651+2.86602e-5im\n",
       "   4.57028e-5-0.00018719im   …  -0.000225226-0.000157629im\n",
       " -0.000126374-9.14804e-5im       -9.22026e-5+0.000111875im\n",
       "  -5.24248e-5+9.47367e-5im       0.000134278+0.000225361im\n",
       "  0.000172677+4.26422e-5im        9.10329e-5-0.000484498im\n",
       "    6.6121e-5-4.93722e-5im      -0.000246242+0.000142495im\n",
       "             ⋮               ⋱  \n",
       "  -2.76319e-5+0.000132661im      -3.59745e-5-6.49509e-6im\n",
       "   5.66139e-6+5.06112e-6im   …    8.29844e-5-0.000184052im\n",
       "  0.000129886-9.37108e-5im       -0.00013448-0.000284161im\n",
       "  0.000165793+5.94278e-5im      -0.000139871-0.000281329im\n",
       "  -8.26815e-5+1.0517e-5im         7.23226e-5+0.000132971im\n",
       " -0.000136026-0.000126813im      -3.95192e-5+0.000252695im\n",
       "  -1.76719e-5+4.34384e-5im   …    7.19575e-5+3.95227e-6im\n",
       "   4.91978e-5-6.63776e-5im      -0.000242647-0.000135592im\n",
       "   -6.2024e-6+0.000221598im      0.000754046+0.0im"
      ]
     },
     "metadata": {},
     "output_type": "display_data"
    }
   ],
   "source": [
    "function build_rho(H::Matrix{ComplexF64})\n",
    "    exp_H = exp(-H)           \n",
    "    Z = tr(exp_H)                \n",
    "    rho = exp_H / Z             \n",
    "    return rho\n",
    "end\n",
    "rho = build_rho(H)\n"
   ]
  },
  {
   "cell_type": "markdown",
   "metadata": {},
   "source": [
    "#### Making rho a pure state in a larger Hilbert space"
   ]
  },
  {
   "cell_type": "code",
   "execution_count": 7,
   "metadata": {},
   "outputs": [
    {
     "ename": "DomainError",
     "evalue": "DomainError with -2.108425289312159e-16:\nsqrt was called with a negative real argument but will only return a complex result if called with a complex argument. Try sqrt(Complex(x)).",
     "output_type": "error",
     "traceback": [
      "DomainError with -2.108425289312159e-16:\n",
      "sqrt was called with a negative real argument but will only return a complex result if called with a complex argument. Try sqrt(Complex(x)).\n",
      "\n",
      "Stacktrace:\n",
      " [1] throw_complex_domainerror(f::Symbol, x::Float64)\n",
      "   @ Base.Math ./math.jl:33\n",
      " [2] sqrt\n",
      "   @ ./math.jl:608 [inlined]\n",
      " [3] purification_rho(rho::Matrix{ComplexF64})\n",
      "   @ Main ~/Documents/Python/PRJ/jl_notebook_cell_df34fa98e69747e1a8f8a730347b8e2f_X20sZmlsZQ==.jl:17\n",
      " [4] top-level scope\n",
      "   @ ~/Documents/Python/PRJ/jl_notebook_cell_df34fa98e69747e1a8f8a730347b8e2f_X20sZmlsZQ==.jl:25"
     ]
    }
   ],
   "source": [
    "function purification_rho(rho::Matrix{ComplexF64})\n",
    "    vals, vecs = eigen(rho)  # rho = vecs * Diagonal(vals) * vecs'\n",
    "\n",
    "    d = size(rho, 1)\n",
    "    psi = zeros(ComplexF64, d^2)  # Purified state vector lives in d x d space\n",
    "\n",
    "    for k in 1:d\n",
    "        pk = vals[k]\n",
    "        if pk ≈ 0\n",
    "            continue  # Skip zero-eigenvalue components\n",
    "        end\n",
    "        psi_k = vecs[:, k]\n",
    "        tr_k = zeros(ComplexF64, d)\n",
    "        tr_k[k] = 1.0  # |k⟩ in ancilla space\n",
    "\n",
    "\n",
    "        psi += sqrt(pk) * kron(psi_k, tr_k)\n",
    "    end\n",
    "\n",
    "    # Normalize Ψ (should already be normalized, but numerically might not be)\n",
    "    psi ./= norm(psi)\n",
    "\n",
    "    return psi\n",
    "end\n",
    "statevector = purification_rho(rho)"
   ]
  },
  {
   "cell_type": "code",
   "execution_count": 35,
   "metadata": {},
   "outputs": [],
   "source": [
    "open(\"FGS_Gen.txt\", \"w\") do file\n",
    "    for i in 1:length(statevector)\n",
    "        real_part = real(statevector[i])\n",
    "        imag_part = imag(statevector[i])\n",
    "        write(file, \"$real_part + $imag_part im\\n\")\n",
    "    end\n",
    "end"
   ]
  },
  {
   "cell_type": "markdown",
   "metadata": {},
   "source": [
    "#### Sample from the density matrix"
   ]
  },
  {
   "cell_type": "code",
   "execution_count": 16,
   "metadata": {},
   "outputs": [
    {
     "data": {
      "text/plain": [
       "sample_from_rho (generic function with 1 method)"
      ]
     },
     "metadata": {},
     "output_type": "display_data"
    }
   ],
   "source": [
    "using LinearAlgebra\n",
    "using StatsBase\n",
    "function sample_from_rho(rho::Matrix{ComplexF64})\n",
    "    vals, vecs = eigen(Hermitian(rho))  # ρ = vecs * Diagonal(vals) * vecs'\n",
    "\n",
    "    probs = abs.(vals) ./ sum(abs.(vals))\n",
    "\n",
    "    # Sample index k with probability λ_k\n",
    "    k = sample(1:length(probs), Weights(probs))\n",
    "\n",
    "    ψ = vecs[:, k]\n",
    "    ψ ./= norm(ψ)\n",
    "    return ψ\n",
    "end\n"
   ]
  },
  {
   "cell_type": "code",
   "execution_count": 17,
   "metadata": {},
   "outputs": [
    {
     "data": {
      "text/plain": [
       "2048-element Vector{ComplexF64}:\n",
       "  -0.014569251574443514 - 0.002076344160242297im\n",
       " -0.0018992175909872471 - 0.01703037530363529im\n",
       "  0.0005993610391282785 + 0.009740379731596195im\n",
       "  -0.009978951361031276 + 0.008810167206586903im\n",
       "   0.006301517836755445 - 0.009026630498592295im\n",
       "   0.025113331135152107 - 0.005810952242168229im\n",
       "   -0.01209335436798149 - 0.011906690439904829im\n",
       "   0.009972828375548318 - 0.015683697910818768im\n",
       "   0.013230901637541431 - 0.012300460833212063im\n",
       "   0.014312363922931887 - 0.013447234774494367im\n",
       "                        ⋮\n",
       "  -0.018805295624435506 + 0.00038329616959689776im\n",
       "   0.030272356694615452 - 0.029944682850995153im\n",
       "   0.008055749664027912 - 0.030215596599089952im\n",
       "   -0.01314175844554029 - 0.009233457498672137im\n",
       "  0.0012455312396189649 + 0.0023587466490558647im\n",
       "    0.00940608263888436 + 0.01989817903830282im\n",
       "   0.005486481497796116 - 4.6789847016233867e-5im\n",
       "   0.009758291338277136 + 0.00029404099150054944im\n",
       "  -0.010428620279189704 - 0.0im"
      ]
     },
     "metadata": {},
     "output_type": "display_data"
    }
   ],
   "source": [
    "SVEC = sample_from_rho(rho)"
   ]
  },
  {
   "cell_type": "code",
   "execution_count": 18,
   "metadata": {},
   "outputs": [],
   "source": [
    "open(\"FGS_Gen_2.txt\", \"w\") do file\n",
    "    for i in 1:length(SVEC)\n",
    "        real_part = real(SVEC[i])\n",
    "        imag_part = imag(SVEC[i])\n",
    "        write(file, \"$real_part + $imag_part im\\n\")\n",
    "    end\n",
    "end"
   ]
  },
  {
   "cell_type": "code",
   "execution_count": null,
   "metadata": {},
   "outputs": [],
   "source": []
  }
 ],
 "metadata": {
  "kernelspec": {
   "display_name": "Julia 1.11.4",
   "language": "julia",
   "name": "julia-1.11"
  },
  "language_info": {
   "file_extension": ".jl",
   "mimetype": "application/julia",
   "name": "julia",
   "version": "1.11.4"
  }
 },
 "nbformat": 4,
 "nbformat_minor": 2
}
