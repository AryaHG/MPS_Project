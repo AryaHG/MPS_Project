{
 "cells": [
  {
   "cell_type": "markdown",
   "metadata": {},
   "source": [
    "# Generating a random fermionic guassian statevector (Method 1)"
   ]
  },
  {
   "cell_type": "code",
   "execution_count": 1,
   "metadata": {},
   "outputs": [
    {
     "name": "stderr",
     "output_type": "stream",
     "text": [
      "\u001b[32m\u001b[1m    Updating\u001b[22m\u001b[39m registry at `~/.julia/registries/General.toml`\n",
      "\u001b[32m\u001b[1m   Resolving\u001b[22m\u001b[39m package versions...\n",
      "\u001b[32m\u001b[1m  No Changes\u001b[22m\u001b[39m to `~/.julia/environments/v1.11/Project.toml`\n",
      "\u001b[32m\u001b[1m  No Changes\u001b[22m\u001b[39m to `~/.julia/environments/v1.11/Manifest.toml`\n"
     ]
    }
   ],
   "source": [
    "using Pkg\n",
    "Pkg.add(\"StatsBase\")"
   ]
  },
  {
   "cell_type": "markdown",
   "metadata": {},
   "source": [
    "## Constructing rho"
   ]
  },
  {
   "cell_type": "code",
   "execution_count": null,
   "metadata": {},
   "outputs": [],
   "source": [
    "using LinearAlgebra\n",
    "\n",
    "\n",
    "# Generating a random Hermitian matrix (A)\n",
    "function random_hermitian(N)\n",
    "    A = randn(ComplexF64, N, N)\n",
    "    H = (A + A') / 2\n",
    "    return H\n",
    "end\n",
    "A = random_hermitian(1024)\n",
    "\n",
    "\n",
    "# Generating a random skew symmetric matrix (B)\n",
    "function random_skew_symmetric_complex(N)\n",
    "    A = randn(ComplexF64, N, N)\n",
    "    return (A - transpose(A)) / 2\n",
    "end\n",
    "B  = random_skew_symmetric_complex(1024)\n",
    "\n",
    "\n",
    "\n",
    "# Constructing Hamiltonian based on A and B\n",
    "function construct_H(A::AbstractMatrix, B::AbstractMatrix)\n",
    "    n, m = size(A)\n",
    "    @assert size(B) == (n, m) \"A and B must be the same size\"\n",
    "\n",
    "    H = Matrix{eltype(A)}(undef, 2n, 2m)\n",
    "\n",
    "    # Fill in blocks directly\n",
    "    H[1:n, 1:m]     .= -conj.(A)\n",
    "    H[1:n, m+1:2m]  .= B\n",
    "    H[n+1:2n, 1:m]  .= -conj.(B)\n",
    "    H[n+1:2n, m+1:2m] .= A\n",
    "\n",
    "    return H\n",
    "end\n",
    "\n",
    "\n",
    "H = construct_H(A, B)"
   ]
  },
  {
   "cell_type": "code",
   "execution_count": null,
   "metadata": {},
   "outputs": [
    {
     "data": {
      "text/plain": [
       "true"
      ]
     },
     "metadata": {},
     "output_type": "display_data"
    }
   ],
   "source": [
    "#Checking if the generated matrix is Hermitian\n",
    "ishermitian(H)"
   ]
  },
  {
   "cell_type": "code",
   "execution_count": null,
   "metadata": {},
   "outputs": [
    {
     "data": {
      "text/plain": [
       "2048×2048 Matrix{ComplexF64}:\n",
       "  0.000238328+0.0im          …    -6.2024e-6-0.000221598im\n",
       "   5.00221e-5-0.00014411im       -8.62595e-5-3.86008e-5im\n",
       "  -4.36494e-5-4.995e-5im          5.70648e-5+0.000332016im\n",
       "   1.75094e-5+0.00017093im        0.00047329-0.000183868im\n",
       "   9.90781e-6-0.00010147im      -0.000170651+2.86602e-5im\n",
       "   4.57028e-5-0.00018719im   …  -0.000225226-0.000157629im\n",
       " -0.000126374-9.14804e-5im       -9.22026e-5+0.000111875im\n",
       "  -5.24248e-5+9.47367e-5im       0.000134278+0.000225361im\n",
       "  0.000172677+4.26422e-5im        9.10329e-5-0.000484498im\n",
       "    6.6121e-5-4.93722e-5im      -0.000246242+0.000142495im\n",
       "             ⋮               ⋱  \n",
       "  -2.76319e-5+0.000132661im      -3.59745e-5-6.49509e-6im\n",
       "   5.66139e-6+5.06112e-6im   …    8.29844e-5-0.000184052im\n",
       "  0.000129886-9.37108e-5im       -0.00013448-0.000284161im\n",
       "  0.000165793+5.94278e-5im      -0.000139871-0.000281329im\n",
       "  -8.26815e-5+1.0517e-5im         7.23226e-5+0.000132971im\n",
       " -0.000136026-0.000126813im      -3.95192e-5+0.000252695im\n",
       "  -1.76719e-5+4.34384e-5im   …    7.19575e-5+3.95227e-6im\n",
       "   4.91978e-5-6.63776e-5im      -0.000242647-0.000135592im\n",
       "   -6.2024e-6+0.000221598im      0.000754046+0.0im"
      ]
     },
     "metadata": {},
     "output_type": "display_data"
    }
   ],
   "source": [
    "# Constructing rho\n",
    "function build_rho(H::Matrix{ComplexF64})\n",
    "    exp_H = exp(-H)           \n",
    "    Z = tr(exp_H)                \n",
    "    rho = exp_H / Z             \n",
    "    return rho\n",
    "end\n",
    "rho = build_rho(H)\n"
   ]
  },
  {
   "cell_type": "markdown",
   "metadata": {},
   "source": [
    "## Making rho a pure state in a larger Hilbert space"
   ]
  },
  {
   "cell_type": "code",
   "execution_count": null,
   "metadata": {},
   "outputs": [
    {
     "ename": "DomainError",
     "evalue": "DomainError with -2.108425289312159e-16:\nsqrt was called with a negative real argument but will only return a complex result if called with a complex argument. Try sqrt(Complex(x)).",
     "output_type": "error",
     "traceback": [
      "DomainError with -2.108425289312159e-16:\n",
      "sqrt was called with a negative real argument but will only return a complex result if called with a complex argument. Try sqrt(Complex(x)).\n",
      "\n",
      "Stacktrace:\n",
      " [1] throw_complex_domainerror(f::Symbol, x::Float64)\n",
      "   @ Base.Math ./math.jl:33\n",
      " [2] sqrt\n",
      "   @ ./math.jl:608 [inlined]\n",
      " [3] purification_rho(rho::Matrix{ComplexF64})\n",
      "   @ Main ~/Documents/Python/PRJ/jl_notebook_cell_df34fa98e69747e1a8f8a730347b8e2f_X20sZmlsZQ==.jl:17\n",
      " [4] top-level scope\n",
      "   @ ~/Documents/Python/PRJ/jl_notebook_cell_df34fa98e69747e1a8f8a730347b8e2f_X20sZmlsZQ==.jl:25"
     ]
    }
   ],
   "source": [
    "# Making rho a pure state in a larger Hilbert space\n",
    "function purification_rho(rho::Matrix{ComplexF64})\n",
    "    vals, vecs = eigen(rho)  # rho = vecs * Diagonal(vals) * vecs'\n",
    "\n",
    "    d = size(rho, 1)\n",
    "    psi = zeros(ComplexF64, d^2)  # Purified state vector lives in d x d space\n",
    "\n",
    "    for k in 1:d\n",
    "        pk = vals[k]\n",
    "        if pk ≈ 0\n",
    "            continue  # Skip zero-eigenvalue components\n",
    "        end\n",
    "        psi_k = vecs[:, k]\n",
    "        tr_k = zeros(ComplexF64, d)\n",
    "        tr_k[k] = 1.0  # |k⟩ in ancilla space\n",
    "\n",
    "\n",
    "        psi += sqrt(pk) * kron(psi_k, tr_k)\n",
    "    end\n",
    "\n",
    "    # Normalize Ψ (should already be normalized, but numerically might not be)\n",
    "    psi ./= norm(psi)\n",
    "\n",
    "    return psi\n",
    "end\n",
    "statevector = purification_rho(rho)\n",
    "\n",
    "\n",
    "\n",
    "# Saving the statevector to a text file\n",
    "open(\"FGS_Gen.txt\", \"w\") do file\n",
    "    for i in 1:length(statevector)\n",
    "        real_part = real(statevector[i])\n",
    "        imag_part = imag(statevector[i])\n",
    "        write(file, \"$real_part + $imag_part im\\n\")\n",
    "    end\n",
    "end"
   ]
  },
  {
   "cell_type": "markdown",
   "metadata": {},
   "source": [
    "## Sample from the density matrix"
   ]
  },
  {
   "cell_type": "code",
   "execution_count": null,
   "metadata": {},
   "outputs": [
    {
     "data": {
      "text/plain": [
       "sample_from_rho (generic function with 1 method)"
      ]
     },
     "metadata": {},
     "output_type": "display_data"
    }
   ],
   "source": [
    "using LinearAlgebra\n",
    "using StatsBase\n",
    "\n",
    "# Sample from the density matrix\n",
    "function sample_from_rho(rho::Matrix{ComplexF64})\n",
    "    vals, vecs = eigen(Hermitian(rho))  # ρ = vecs * Diagonal(vals) * vecs'\n",
    "\n",
    "    probs = abs.(vals) ./ sum(abs.(vals))\n",
    "\n",
    "    # Sample index k with probability λ_k\n",
    "    k = sample(1:length(probs), Weights(probs))\n",
    "\n",
    "    ψ = vecs[:, k]\n",
    "    ψ ./= norm(ψ)\n",
    "    return ψ\n",
    "end\n",
    "\n",
    "SVEC = sample_from_rho(rho)\n",
    "\n",
    "# Saving the sampled statevector to a text file\n",
    "open(\"FGS_Gen_2.txt\", \"w\") do file\n",
    "    for i in 1:length(SVEC)\n",
    "        real_part = real(SVEC[i])\n",
    "        imag_part = imag(SVEC[i])\n",
    "        write(file, \"$real_part + $imag_part im\\n\")\n",
    "    end\n",
    "end\n"
   ]
  },
  {
   "cell_type": "markdown",
   "metadata": {},
   "source": [
    "# Generating a random fermionic guassian statevector (Method 2)"
   ]
  },
  {
   "cell_type": "code",
   "execution_count": null,
   "metadata": {},
   "outputs": [],
   "source": [
    "using LinearAlgebra\n",
    "using Random\n",
    "\n",
    "# Generating a random quadratic Hamiltonian\n",
    "function random_quadratic_H(N::Int)\n",
    "    A = randn(ComplexF64, N, N)\n",
    "    H = A + A'  # Make it Hermitian\n",
    "    return H\n",
    "end\n",
    "\n",
    "# Diagonalizing the Hamiltonian\n",
    "function diagonalize_H(H::Matrix{ComplexF64})\n",
    "    eig = eigen(H)\n",
    "    E = eig.values\n",
    "    U = eig.vectors  # Columns are eigenvectors\n",
    "    return E, U\n",
    "end\n",
    "\n",
    "\n",
    "# Generating a random fermionic guassian statevector(Through slater determinant)\n",
    "function random_fgs(U::Matrix{ComplexF64}, Nf::Int)\n",
    "    L = size(U, 1)\n",
    "    chosen = sort(randperm(L)[1:Nf])  # choose random orbitals\n",
    "    psi = zeros(ComplexF64, 2^L)\n",
    "\n",
    "    for i in 0:(2^L - 1)\n",
    "        bits = digits(i, base=2, pad=L)\n",
    "        occ = findall(x -> x == 1, bits)\n",
    "        if length(occ) == Nf\n",
    "            mat = U[occ, chosen]\n",
    "            psi[i+1] = det(mat)\n",
    "        end\n",
    "    end\n",
    "    return psi / norm(psi)\n",
    "end\n",
    "\n"
   ]
  },
  {
   "cell_type": "code",
   "execution_count": null,
   "metadata": {},
   "outputs": [],
   "source": [
    "#Testing the functions\n",
    "N = 10\n",
    "Nf = 3\n",
    "H = random_quadratic_H(N)\n",
    "E, U = diagonalize_H(H)\n",
    "psi_2 = random_fgs(U, Nf)\n",
    "\n",
    "# Saving the fermionic gaussian statevector to a text file\n",
    "open(\"FGS_Gen_3.txt\", \"w\") do file\n",
    "    for i in 1:length(psi_2)\n",
    "        real_part = real(psi_2[i])\n",
    "        imag_part = imag(psi_2[i])\n",
    "        write(file, \"$real_part + $imag_part im\\n\")\n",
    "    end\n",
    "end"
   ]
  }
 ],
 "metadata": {
  "kernelspec": {
   "display_name": "Julia 1.11.4",
   "language": "julia",
   "name": "julia-1.11"
  },
  "language_info": {
   "file_extension": ".jl",
   "mimetype": "application/julia",
   "name": "julia",
   "version": "1.11.4"
  }
 },
 "nbformat": 4,
 "nbformat_minor": 2
}
