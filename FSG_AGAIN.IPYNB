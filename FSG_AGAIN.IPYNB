{
 "cells": [
  {
   "cell_type": "code",
   "execution_count": 1,
   "metadata": {},
   "outputs": [
    {
     "data": {
      "text/plain": [
       "random_quadratic_H (generic function with 1 method)"
      ]
     },
     "metadata": {},
     "output_type": "display_data"
    }
   ],
   "source": [
    "using LinearAlgebra\n",
    "\n",
    "function random_quadratic_H(N::Int)\n",
    "    A = randn(ComplexF64, N, N)\n",
    "    H = A + A'  # Make it Hermitian\n",
    "    return H\n",
    "end"
   ]
  },
  {
   "cell_type": "code",
   "execution_count": 2,
   "metadata": {},
   "outputs": [
    {
     "data": {
      "text/plain": [
       "diagonalize_H (generic function with 1 method)"
      ]
     },
     "metadata": {},
     "output_type": "display_data"
    }
   ],
   "source": [
    "function diagonalize_H(H::Matrix{ComplexF64})\n",
    "    eig = eigen(H)\n",
    "    E = eig.values\n",
    "    U = eig.vectors  # Columns are eigenvectors\n",
    "    return E, U\n",
    "end"
   ]
  },
  {
   "cell_type": "code",
   "execution_count": 3,
   "metadata": {},
   "outputs": [
    {
     "data": {
      "text/plain": [
       "random_fgs (generic function with 1 method)"
      ]
     },
     "metadata": {},
     "output_type": "display_data"
    }
   ],
   "source": [
    "using Random\n",
    "function random_fgs(U::Matrix{ComplexF64}, Nf::Int)\n",
    "    L = size(U, 1)\n",
    "    chosen = sort(randperm(L)[1:Nf])  # choose random orbitals\n",
    "    psi = zeros(ComplexF64, 2^L)\n",
    "\n",
    "    for i in 0:(2^L - 1)\n",
    "        bits = digits(i, base=2, pad=L)\n",
    "        occ = findall(x -> x == 1, bits)\n",
    "        if length(occ) == Nf\n",
    "            mat = U[occ, chosen]\n",
    "            psi[i+1] = det(mat)\n",
    "        end\n",
    "    end\n",
    "    return psi / norm(psi)\n",
    "end\n"
   ]
  },
  {
   "cell_type": "code",
   "execution_count": 9,
   "metadata": {},
   "outputs": [
    {
     "data": {
      "text/plain": [
       "1024-element Vector{ComplexF64}:\n",
       "                  0.0 + 0.0im\n",
       "                  0.0 + 0.0im\n",
       "                  0.0 + 0.0im\n",
       "                  0.0 + 0.0im\n",
       "                  0.0 + 0.0im\n",
       "                  0.0 + 0.0im\n",
       "                  0.0 + 0.0im\n",
       " 0.004501854727248816 + 0.09837432570987595im\n",
       "                  0.0 + 0.0im\n",
       "                  0.0 + 0.0im\n",
       "                      ⋮\n",
       "                  0.0 + 0.0im\n",
       "                  0.0 + 0.0im\n",
       "                  0.0 + 0.0im\n",
       "                  0.0 + 0.0im\n",
       "                  0.0 + 0.0im\n",
       "                  0.0 + 0.0im\n",
       "                  0.0 + 0.0im\n",
       "                  0.0 + 0.0im\n",
       "                  0.0 + 0.0im"
      ]
     },
     "metadata": {},
     "output_type": "display_data"
    }
   ],
   "source": [
    "N = 10\n",
    "Nf = 3\n",
    "H = random_quadratic_H(N)\n",
    "E, U = diagonalize_H(H)\n",
    "psi_2 = random_fgs(U, Nf)"
   ]
  },
  {
   "cell_type": "code",
   "execution_count": 10,
   "metadata": {},
   "outputs": [],
   "source": [
    "open(\"FGS_Gen_3.txt\", \"w\") do file\n",
    "    for i in 1:length(psi_2)\n",
    "        real_part = real(psi_2[i])\n",
    "        imag_part = imag(psi_2[i])\n",
    "        write(file, \"$real_part + $imag_part im\\n\")\n",
    "    end\n",
    "end"
   ]
  },
  {
   "cell_type": "code",
   "execution_count": null,
   "metadata": {},
   "outputs": [],
   "source": []
  }
 ],
 "metadata": {
  "kernelspec": {
   "display_name": "Julia 1.11.4",
   "language": "julia",
   "name": "julia-1.11"
  },
  "language_info": {
   "file_extension": ".jl",
   "mimetype": "application/julia",
   "name": "julia",
   "version": "1.11.4"
  }
 },
 "nbformat": 4,
 "nbformat_minor": 2
}
