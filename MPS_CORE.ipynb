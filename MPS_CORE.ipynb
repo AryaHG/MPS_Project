{
 "cells": [
  {
   "cell_type": "markdown",
   "metadata": {},
   "source": [
    "# THE MPS CALCULATOR"
   ]
  },
  {
   "cell_type": "code",
   "execution_count": 5,
   "metadata": {},
   "outputs": [
    {
     "name": "stderr",
     "output_type": "stream",
     "text": [
      "\u001b[32m\u001b[1m    Updating\u001b[22m\u001b[39m registry at `~/.julia/registries/General.toml`\n",
      "\u001b[32m\u001b[1m   Resolving\u001b[22m\u001b[39m package versions...\n",
      "\u001b[32m\u001b[1m  No Changes\u001b[22m\u001b[39m to `~/.julia/environments/v1.11/Project.toml`\n",
      "\u001b[32m\u001b[1m  No Changes\u001b[22m\u001b[39m to `~/.julia/environments/v1.11/Manifest.toml`\n"
     ]
    }
   ],
   "source": [
    "using Pkg\n",
    "Pkg.add(\"ITensors\")"
   ]
  },
  {
   "cell_type": "code",
   "execution_count": 1,
   "metadata": {},
   "outputs": [
    {
     "data": {
      "text/plain": [
       "mps_function (generic function with 1 method)"
      ]
     },
     "metadata": {},
     "output_type": "display_data"
    }
   ],
   "source": [
    "using LinearAlgebra\n",
    "using Plots: plot, savefig\n",
    "\n",
    "\n",
    "\n",
    "\n",
    "function mps_function(psi::Vector{ComplexF64}, cutoff::Float64)\n",
    "    n = round(Int, log2(length(psi)))  # Number of qubits\n",
    "    @assert 2^n == length(psi) \"Length of psi must be a power of 2\"\n",
    "\n",
    "    mps = []\n",
    "    D_prev = 1 # Initial bond dimension\n",
    "\n",
    "    for k in 1:n-1\n",
    "        d_left = D_prev\n",
    "        d_phys = 2 # Physical dimension (2 for qubits)\n",
    "        d_right = length(psi) ÷ (d_left * d_phys)\n",
    "\n",
    "        psi_matrix = reshape(psi, (d_left * d_phys, d_right))\n",
    "        U, S, V = svd(psi_matrix)\n",
    "        \n",
    "       \n",
    "      \n",
    "        if k == ceil(Int, n/2)\n",
    "            global middle_singular_values = copy(S)\n",
    "            plt = plot(\n",
    "                S,\n",
    "                marker = :circle,\n",
    "                xlabel = \"Number of Singular Values\",\n",
    "                ylabel = \"Singular Values\",\n",
    "                title = \"Singular Values at Step $k (Middle Site)\",\n",
    "                yscale = :log10,\n",
    "                ylims = (1e-25, 1e5),\n",
    "                #yformatter = y -> @sprintf(\"%.5e\", y),   # <--- show 2 decimal digits in scientific notation\n",
    "                legend = false\n",
    "            )\n",
    "            savefig(plt, \"singular_values_plot(FGS).pdf\")\n",
    "        end\n",
    "\n",
    "        \n",
    "\n",
    "        # Find how many singular values are above cutoff\n",
    "        r = count(s -> abs(s) > cutoff, S)\n",
    "        if r == 0\n",
    "            error(\"All singular values below cutoff at step $k — increase cutoff or check state\")\n",
    "        end\n",
    "\n",
    "        # Truncate U, S, V to rank r  (non zero singular values)\n",
    "        U_trunc = U[:, 1:r]\n",
    "        S_trunc = S[1:r]\n",
    "        V_trunc = V[:, 1:r]\n",
    "\n",
    "        A = reshape(U_trunc, d_left, d_phys, r)\n",
    "        push!(mps, A)\n",
    "\n",
    "        psi = Diagonal(S_trunc) * V_trunc'\n",
    "        D_prev = r\n",
    "    end\n",
    "\n",
    "    # Final tensor\n",
    "    A_last = reshape(psi, D_prev, 2, 1)\n",
    "    push!(mps, A_last)\n",
    "\n",
    "    return mps\n",
    "end\n",
    "\n"
   ]
  },
  {
   "cell_type": "markdown",
   "metadata": {},
   "source": [
    "# READING COMPLEX TEXT FILE (2 Functions) "
   ]
  },
  {
   "cell_type": "code",
   "execution_count": 3,
   "metadata": {},
   "outputs": [
    {
     "data": {
      "text/plain": [
       "load_complex_vector_from_txt (generic function with 1 method)"
      ]
     },
     "metadata": {},
     "output_type": "display_data"
    }
   ],
   "source": [
    "function load_complex_vector_from_txt(filename::String)\n",
    "    psi = ComplexF64[]\n",
    "    open(filename, \"r\") do file\n",
    "        for line in eachline(file)\n",
    "            s = replace(line, \"im\" => \"\")  # remove \"im\"\n",
    "            parts = split(s, \"+\")\n",
    "            if length(parts) == 2\n",
    "                real_part = parse(Float64, strip(parts[1]))\n",
    "                imag_part = parse(Float64, strip(parts[2]))\n",
    "                push!(psi, ComplexF64(real_part, imag_part))\n",
    "            end\n",
    "        end\n",
    "    end\n",
    "    return psi\n",
    "end"
   ]
  },
  {
   "cell_type": "code",
   "execution_count": 4,
   "metadata": {},
   "outputs": [
    {
     "data": {
      "text/plain": [
       "load_complex_vector_from_txt_2 (generic function with 1 method)"
      ]
     },
     "metadata": {},
     "output_type": "display_data"
    }
   ],
   "source": [
    "function load_complex_vector_from_txt_2(filename::String)\n",
    "    psi = ComplexF64[]\n",
    "    open(filename, \"r\") do file\n",
    "        for line in eachline(file)\n",
    "            # Remove \"im\" and index number\n",
    "            parts = split(strip(line), r\"\\s+\")\n",
    "            if length(parts) >= 4\n",
    "                real_str = parts[1+1]  # after the index\n",
    "                sign = parts[2+1]      # '+' or '-'\n",
    "                imag_str = parts[3+1]\n",
    "\n",
    "                real_part = parse(Float64, real_str)\n",
    "                imag_part = parse(Float64, imag_str)\n",
    "                imag_part *= (sign == \"+\" ? 1 : -1)\n",
    "\n",
    "                push!(psi, ComplexF64(real_part, imag_part))\n",
    "            end\n",
    "        end\n",
    "    end\n",
    "    return psi\n",
    "end"
   ]
  },
  {
   "cell_type": "markdown",
   "metadata": {},
   "source": [
    "# APLLYING THE MPS CALCULATER ON DIFFERENT STATEVECTORS"
   ]
  },
  {
   "cell_type": "code",
   "execution_count": 20,
   "metadata": {},
   "outputs": [
    {
     "name": "stderr",
     "output_type": "stream",
     "text": [
      "┌ Warning: Invalid negative or zero value 0.0 found at series index 5 for log10 based yscale\n",
      "└ @ Plots /Users/arya/.julia/packages/Plots/MR7sb/src/utils.jl:106\n"
     ]
    },
    {
     "name": "stdout",
     "output_type": "stream",
     "text": [
      "A[1] shape: (1, 2, 2)\n",
      "A[2] shape: (2, 2, 4)\n",
      "A[3] shape: (4, 2, 4)\n",
      "A[4] shape: (4, 2, 4)\n",
      "A[5] shape: (4, 2, 4)\n",
      "A[6] shape: (4, 2, 4)\n",
      "A[7] shape: (4, 2, 4)\n",
      "A[8] shape: (4, 2, 2)\n",
      "A[9] shape: (2, 2, 1)\n",
      "A[10] shape: (1, 2, 1)\n"
     ]
    }
   ],
   "source": [
    "psi = load_complex_vector_from_txt(\"cl.txt\")\n",
    "MPS = mps_function(psi, 1e-8)\n",
    "for (i, A) in enumerate(MPS)\n",
    "    println(\"A[$i] shape: \", size(A))\n",
    "end"
   ]
  },
  {
   "cell_type": "markdown",
   "metadata": {},
   "source": [
    "## Renyi Entropy"
   ]
  },
  {
   "cell_type": "code",
   "execution_count": 9,
   "metadata": {},
   "outputs": [
    {
     "data": {
      "text/plain": [
       "renyi_entropies (generic function with 1 method)"
      ]
     },
     "metadata": {},
     "output_type": "display_data"
    }
   ],
   "source": [
    "function renyi_entropies(S::AbstractVector)\n",
    "    p = S.^2\n",
    "    p ./= sum(p)\n",
    "    Ren_En = zeros(Float64, 10)\n",
    "    #Van Neumann Entropy\n",
    "    Ren_En[1] = -sum(pi == 0 ? 0.0 : pi * log(pi) for pi in p)          #Note to myself: Ternary Operator\n",
    "    #Renyi Entropies\n",
    "    for n in 2:10\n",
    "        Ren_En[n] = (1 / (1 - n)) * log(sum(p .^ n))\n",
    "    end\n",
    "\n",
    "    return Ren_En\n",
    "end"
   ]
  },
  {
   "cell_type": "markdown",
   "metadata": {},
   "source": [
    "#### Checking the singular values"
   ]
  },
  {
   "cell_type": "code",
   "execution_count": 21,
   "metadata": {},
   "outputs": [
    {
     "data": {
      "text/plain": [
       "8-element Vector{Float64}:\n",
       " 0.5000008618312572\n",
       " 0.5000008618312572\n",
       " 0.5000008618312572\n",
       " 0.5000008618312572\n",
       " 0.0\n",
       " 0.0\n",
       " 0.0\n",
       " 0.0"
      ]
     },
     "metadata": {},
     "output_type": "display_data"
    }
   ],
   "source": [
    "middle_singular_values"
   ]
  },
  {
   "cell_type": "markdown",
   "metadata": {},
   "source": [
    "#### Renyi Entropy of Haar random (2-10)"
   ]
  },
  {
   "cell_type": "code",
   "execution_count": 10,
   "metadata": {},
   "outputs": [
    {
     "data": {
      "text/plain": [
       "10-element Vector{Float64}:\n",
       " 2.961076670217562\n",
       " 2.770223215897558\n",
       " 2.659049497666836\n",
       " 2.5853417650600177\n",
       " 2.5331649774307654\n",
       " 2.4945419376039455\n",
       " 2.4649184727989355\n",
       " 2.4415142316165874\n",
       " 2.422555093265853\n",
       " 2.4068680729610508"
      ]
     },
     "metadata": {},
     "output_type": "display_data"
    }
   ],
   "source": [
    "E1 = renyi_entropies(middle_singular_values)"
   ]
  },
  {
   "cell_type": "markdown",
   "metadata": {},
   "source": [
    "#### Renyi Entropy of Stablizer (2-10)"
   ]
  },
  {
   "cell_type": "code",
   "execution_count": 22,
   "metadata": {},
   "outputs": [
    {
     "data": {
      "text/plain": [
       "10-element Vector{Float64}:\n",
       " 1.3862943611198906\n",
       " 1.3862943611198906\n",
       " 1.3862943611198906\n",
       " 1.3862943611198904\n",
       " 1.3862943611198906\n",
       " 1.3862943611198908\n",
       " 1.3862943611198904\n",
       " 1.3862943611198906\n",
       " 1.3862943611198906\n",
       " 1.3862943611198906"
      ]
     },
     "metadata": {},
     "output_type": "display_data"
    }
   ],
   "source": [
    "#Clifford_10_4\n",
    "E2 = renyi_entropies(middle_singular_values)\n"
   ]
  },
  {
   "cell_type": "markdown",
   "metadata": {},
   "source": [
    "# SERs"
   ]
  },
  {
   "cell_type": "markdown",
   "metadata": {},
   "source": [
    "### Building the Pauli Strings"
   ]
  },
  {
   "cell_type": "code",
   "execution_count": null,
   "metadata": {},
   "outputs": [
    {
     "ename": "Base.Meta.ParseError",
     "evalue": "ParseError:\n# Error @ /Users/arya/Documents/Python/PRJ/jl_notebook_cell_df34fa98e69747e1a8f8a730347b8e2f_X40sZmlsZQ==.jl:5:10\n# Mapping Itensors Operator name to characters\nfunction operator\n#        └──────┘ ── Invalid signature in function definition",
     "output_type": "error",
     "traceback": [
      "ParseError:\n",
      "# Error @ /Users/arya/Documents/Python/PRJ/jl_notebook_cell_df34fa98e69747e1a8f8a730347b8e2f_X40sZmlsZQ==.jl:5:10\n",
      "# Mapping Itensors Operator name to characters\n",
      "function operator\n",
      "#        └──────┘ ── Invalid signature in function definition\n",
      "\n",
      "Stacktrace:\n",
      " [1] top-level scope\n",
      "   @ ~/Documents/Python/PRJ/jl_notebook_cell_df34fa98e69747e1a8f8a730347b8e2f_X40sZmlsZQ==.jl:5"
     ]
    }
   ],
   "source": [
    "#For Cunstructing the  Pauli charactristic distribution of MPS, we need the MPO version of the Pauli strings.\n",
    "using ITensors\n",
    "using Random\n",
    "using StatsBase\n",
    "\n",
    "# Mapping Itensors Operator name to characters\n",
    "function operator_name(c::Char)\n",
    "    c == \"I\" && return \"Id\"    # Note to myself: && --> short-circuit evaluation\n",
    "    c == \"X\" && return \"Sx\"\n",
    "    c == \"Y\" && return \"Sy\"\n",
    "    c == \"Z\" && return \"Sz\"\n",
    "    error(\"Unknown operator character: $c\")\n",
    "end\n",
    "\n",
    "# Generating a Ramdom Pauli String\n",
    "function random_pauli_string(n::Int; avoid_all_I::Bool=true, rng=Random.default_rng())\n",
    "    pauli_ops = ['I', 'X', 'Y', 'Z']\n",
    "    while true\n",
    "        s = String(rand(rng, pauli_ops, n))\n",
    "        if !avoid_all_I || s != repeat(\"I\", n)\n",
    "            return s\n",
    "        end\n",
    "    end\n",
    "end \n",
    "\n",
    "# Generating the MPO for a given Pauli String\n",
    "\n"
   ]
  },
  {
   "cell_type": "markdown",
   "metadata": {},
   "source": [
    "# RECONSTRUCTING  THE STATEVECTOR BY CONTRACTING MPS ELEMENTS"
   ]
  },
  {
   "cell_type": "code",
   "execution_count": 2,
   "metadata": {},
   "outputs": [
    {
     "data": {
      "text/plain": [
       "contract_mps (generic function with 1 method)"
      ]
     },
     "metadata": {},
     "output_type": "display_data"
    }
   ],
   "source": [
    "using TensorOperations\n",
    "\n",
    "function contract_mps(MPS::Vector)\n",
    "    psi = MPS[1]  # Start with the first site tensor\n",
    "0\n",
    "    for i in 2:length(MPS)\n",
    "        T = MPS[i]\n",
    "\n",
    "        \n",
    "        @tensor psi_new[a, p1, p2, c] := psi[a, p1, b] * T[b, p2, c]\n",
    "\n",
    "        \n",
    "        d1 = size(psi, 2)\n",
    "        d2 = size(T, 2)\n",
    "        right_bond = size(psi_new, 4)\n",
    "\n",
    "        psi = reshape(psi_new, 1, d1 * d2, right_bond)\n",
    "    end\n",
    "\n",
    "    \n",
    "    return reshape(psi, :)\n",
    "end"
   ]
  },
  {
   "cell_type": "markdown",
   "metadata": {},
   "source": [
    "# CUTTING OFF THE COMPLEX NUMBERS "
   ]
  },
  {
   "cell_type": "code",
   "execution_count": 1,
   "metadata": {},
   "outputs": [
    {
     "data": {
      "text/plain": [
       "cutoff_complex_parts (generic function with 2 methods)"
      ]
     },
     "metadata": {},
     "output_type": "display_data"
    }
   ],
   "source": [
    "function cutoff_complex_parts(A::Array, cutoff::Float64 = 1e-12)\n",
    "    re = real.(A)\n",
    "    im = imag.(A)\n",
    "\n",
    "    re[abs.(re) .< cutoff] .= 0.0\n",
    "    im[abs.(im) .< cutoff] .= 0.0\n",
    "\n",
    "    A .= complex.(re, im)\n",
    "end"
   ]
  },
  {
   "cell_type": "markdown",
   "metadata": {},
   "source": [
    "# APPLYING THE RECONSTRUCTING FUNCTION"
   ]
  },
  {
   "cell_type": "code",
   "execution_count": 35,
   "metadata": {},
   "outputs": [
    {
     "data": {
      "text/plain": [
       "4096-element Vector{ComplexF64}:\n",
       "    0.02221278104648671 + 0.0im\n",
       "                    0.0 + 0.0im\n",
       "                    0.0 + 0.0im\n",
       "   0.006459266754389635 - 0.013653612995951827im\n",
       "                    0.0 + 0.0im\n",
       "   -0.01564549559844753 - 0.010153208000613503im\n",
       "   0.014734130944164855 + 0.011194121942464162im\n",
       "                    0.0 + 0.0im\n",
       "                    0.0 + 0.0im\n",
       " -0.0003580795991152047 + 0.009868844424071804im\n",
       "                        ⋮\n",
       "                    0.0 + 0.0im\n",
       "                    0.0 + 0.0im\n",
       "   0.005425202135683498 - 0.006361943170859172im\n",
       "   0.002326104433596305 - 0.0015250884178343662im\n",
       "                    0.0 + 0.0im\n",
       "  -0.011019829568911775 + 0.0109105172658617im\n",
       "                    0.0 + 0.0im\n",
       "                    0.0 + 0.0im\n",
       "    0.00718388943285008 + 0.0im"
      ]
     },
     "metadata": {},
     "output_type": "display_data"
    }
   ],
   "source": [
    "re_psi_1 = contract_mps(MPS)\n",
    "re_psi = cutoff_complex_parts(re_psi_1, 1e-8)\n",
    "\n"
   ]
  },
  {
   "cell_type": "markdown",
   "metadata": {},
   "source": [
    "# CHECKING THE RECONSTRUCTED STATEVECTOR IS SAME AS INITIAL ONE"
   ]
  },
  {
   "cell_type": "code",
   "execution_count": 36,
   "metadata": {},
   "outputs": [
    {
     "data": {
      "text/plain": [
       "1.6981183086019288e-7"
      ]
     },
     "metadata": {},
     "output_type": "display_data"
    }
   ],
   "source": [
    "norm(re_psi - psi)"
   ]
  },
  {
   "cell_type": "code",
   "execution_count": null,
   "metadata": {},
   "outputs": [],
   "source": []
  }
 ],
 "metadata": {
  "kernelspec": {
   "display_name": "Julia 1.11.4",
   "language": "julia",
   "name": "julia-1.11"
  },
  "language_info": {
   "file_extension": ".jl",
   "mimetype": "application/julia",
   "name": "julia",
   "version": "1.11.4"
  }
 },
 "nbformat": 4,
 "nbformat_minor": 2
}
