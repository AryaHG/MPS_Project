{
 "cells": [
  {
   "cell_type": "markdown",
   "metadata": {},
   "source": [
    "\n",
    "### **Example 3: GHZ State for 3 Qubits**\n",
    "\n",
    "$$\n",
    "\\ket{\\text{GHZ}_3} = \\frac{1}{\\sqrt{2}}(\\ket{000} + \\ket{111})\n",
    "$$\n",
    "\n",
    "The state vector is:\n",
    "\n",
    "$$\n",
    "\\ket{\\psi} = \\frac{1}{\\sqrt{2}} \n",
    "\\begin{bmatrix}\n",
    "1 & 0 & 0 & 0 & 0 & 0 & 0 & 1\n",
    "\\end{bmatrix}^T\n",
    "$$\n",
    "\n",
    "**Step 1:** Reshape to \\((2, 4)\\) matrix:\n",
    "\n",
    "$$\n",
    "M_1 =\n",
    "\\begin{bmatrix}\n",
    "\\frac{1}{\\sqrt{2}} & 0 & 0 & 0 \\\\\n",
    "0 & 0 & 0 & \\frac{1}{\\sqrt{2}}\n",
    "\\end{bmatrix}\n",
    "$$\n",
    "\"\"\"\n",
    "\n"
   ]
  },
  {
   "cell_type": "code",
   "execution_count": 24,
   "metadata": {},
   "outputs": [
    {
     "name": "stdout",
     "output_type": "stream",
     "text": [
      "SVD of C_reshaped:\n"
     ]
    },
    {
     "data": {
      "text/plain": [
       "SVD{ComplexF64, Float64, Matrix{ComplexF64}, Vector{Float64}}\n",
       "U factor:\n",
       "2×2 Matrix{ComplexF64}:\n",
       " -0.707107+1.62099e-65im   0.707107+2.10417e-32im\n",
       " -0.707107-1.11022e-16im  -0.707107-1.11022e-16im\n",
       "singular values:\n",
       "2-element Vector{Float64}:\n",
       " 1.0\n",
       " 3.3993498887762956e-17\n",
       "Vt factor:\n",
       "4×4 Matrix{ComplexF64}:\n",
       " -2.35514e-17+0.5im       -7.85046e-18-0.5im       …  7.85046e-18+0.5im\n",
       "     -0.69282-0.519615im      -0.23094-0.173205im         0.23094+0.173205im\n",
       "          0.0+0.0im           -0.57735+0.0im             0.211325+0.0im\n",
       "          0.0+0.0im            0.57735+0.0im             0.788675+0.0im"
      ]
     },
     "metadata": {},
     "output_type": "display_data"
    }
   ],
   "source": [
    "using LinearAlgebra\n",
    "\n",
    "C = [-im/sqrt(8) -im/sqrt(8) im/sqrt(8) im/sqrt(8) im/sqrt(8) im/sqrt(8) -im/sqrt(8) -im/sqrt(8)]\n",
    "C_reshaped = reshape(C, 2, 4)\n",
    "println(\"SVD of C_reshaped:\")\n",
    "M1 = svd(C_reshaped, full=true)\n"
   ]
  },
  {
   "cell_type": "code",
   "execution_count": 26,
   "metadata": {},
   "outputs": [
    {
     "data": {
      "text/plain": [
       "1×2×1 Array{ComplexF64, 3}:\n",
       "[:, :, 1] =\n",
       " -0.707107+1.62099e-65im  -0.707107-1.11022e-16im"
      ]
     },
     "metadata": {},
     "output_type": "display_data"
    }
   ],
   "source": [
    "#Building the first site of the MPS\n",
    "\n",
    "A1_tensor = Array{Float64}(undef, 1, 2, 2) #First site is 1*2*2 tensor with 1 physical inedies with dimension 2 and 2 virtual indices with dimensions 1 and 2\n",
    "A1_1 = M1.U[:, 1] * M1.S[1] \n",
    "A1_tensor = reshape(A1_1, 1 ,2, 1) \n",
    "#A1_2 = M1.U[:, 2] * M1.S[2]\n",
    "#A1_tensor[1, 1, :] = A1_1  # physical index 0\n",
    "#A1_tensor[1, 2, :] = A1_2  # physical index 1\n",
    "display(A1_tensor)"
   ]
  },
  {
   "cell_type": "code",
   "execution_count": 27,
   "metadata": {},
   "outputs": [
    {
     "data": {
      "text/plain": [
       "SVD{ComplexF64, Float64, Transpose{ComplexF64, Matrix{ComplexF64}}, Vector{Float64}}\n",
       "U factor:\n",
       "4×4 transpose(::Matrix{ComplexF64}) with eltype ComplexF64:\n",
       " 0.0+0.5im   0.4+0.3im   0.4+0.3im  -0.4-0.3im\n",
       " 0.0-0.5im   0.8+0.1im  -0.2+0.1im   0.2-0.1im\n",
       " 0.0-0.5im  -0.2+0.1im   0.8+0.1im   0.2-0.1im\n",
       " 0.0+0.5im   0.2-0.1im   0.2-0.1im   0.8+0.1im\n",
       "singular values:\n",
       "1-element Vector{Float64}:\n",
       " 1.0\n",
       "Vt factor:\n",
       "1×1 transpose(::Matrix{ComplexF64}) with eltype ComplexF64:\n",
       " 1.0 + 0.0im"
      ]
     },
     "metadata": {},
     "output_type": "display_data"
    }
   ],
   "source": [
    "#Building the second site of the MPS\n",
    "#Using the V matrix in the SVD of the first site\n",
    "#Since we have 2 nonzero singular values, we can take the first two columns of V\n",
    "M1_V = M1.Vt[1:1, :]\n",
    "M2 = svd(transpose(M1_V), full=true)"
   ]
  },
  {
   "cell_type": "code",
   "execution_count": 18,
   "metadata": {},
   "outputs": [
    {
     "data": {
      "text/plain": [
       "2×2×1 Array{ComplexF64, 3}:\n",
       "[:, :, 1] =\n",
       " -0.707107+0.0im  0.707107+0.0im\n",
       "  0.707107+0.0im  0.707107+0.0im"
      ]
     },
     "metadata": {},
     "output_type": "display_data"
    }
   ],
   "source": [
    "#Building the second site of the MPS\n",
    "#The second site is a 2*2*2 tensor with 1 physical indices with dimension 2 and 2 virtual indices with dimensions 2 and 2\n",
    "#A2_1 = M2.U[:, 1] * M2.S[1]\n",
    "#A2_2 = M2.U[:, 2] * M2.S[2]\n",
    "#A2_1_matrix = reshape(A2_1, 2, 2)\n",
    "#A2_2_matrix = reshape(A2_2, 2, 2)\n",
    "A2 = M2.U * M2.S[1]\n",
    "A2_tensor = reshape(A2, 2, 2, 1)"
   ]
  },
  {
   "cell_type": "code",
   "execution_count": null,
   "metadata": {},
   "outputs": [
    {
     "data": {
      "text/plain": [
       "2×2×2 Array{Float64, 3}:\n",
       "[:, :, 1] =\n",
       " 0.707107  0.0\n",
       " 0.0       0.0\n",
       "\n",
       "[:, :, 2] =\n",
       " 0.707107  0.0\n",
       " 0.0       1.0"
      ]
     },
     "metadata": {},
     "output_type": "display_data"
    }
   ],
   "source": [
    "#A2_tensor = Array{Float64}(undef, 2, 2, 2)\n",
    "\n",
    "#A2_tensor[:, 1, :] = A2_1_matrix  # physical index = 0\n",
    "#A2_tensor[:, 2, :] = A2_2_matrix  # physical index = 1\n",
    "#display(A2_tensor)"
   ]
  },
  {
   "cell_type": "code",
   "execution_count": 19,
   "metadata": {},
   "outputs": [
    {
     "data": {
      "text/plain": [
       "SVD{ComplexF64, Float64, Matrix{ComplexF64}, Vector{Float64}}\n",
       "U factor:\n",
       "1×1 Matrix{ComplexF64}:\n",
       " 1.0 + 0.0im\n",
       "singular values:\n",
       "1-element Vector{Float64}:\n",
       " 1.0\n",
       "Vt factor:\n",
       "1×1 Matrix{ComplexF64}:\n",
       " 1.0 + 0.0im"
      ]
     },
     "metadata": {},
     "output_type": "display_data"
    }
   ],
   "source": [
    "#Building the third site of the MPS\n",
    "#Using the V matrix in the SVD of the second site\n",
    "M3 = svd(transpose(M2.Vt), full=true)"
   ]
  },
  {
   "cell_type": "code",
   "execution_count": 22,
   "metadata": {},
   "outputs": [
    {
     "ename": "DimensionMismatch",
     "evalue": "DimensionMismatch: new dimensions (1, 2, 1) must be consistent with array size 1",
     "output_type": "error",
     "traceback": [
      "DimensionMismatch: new dimensions (1, 2, 1) must be consistent with array size 1\n",
      "\n",
      "Stacktrace:\n",
      " [1] (::Base.var\"#throw_dmrsa#365\")(dims::Tuple{Int64, Int64, Int64}, len::Int64)\n",
      "   @ Base ./reshapedarray.jl:41\n",
      " [2] reshape\n",
      "   @ ./reshapedarray.jl:45 [inlined]\n",
      " [3] reshape(::Matrix{ComplexF64}, ::Int64, ::Int64, ::Int64)\n",
      "   @ Base ./reshapedarray.jl:127\n",
      " [4] top-level scope\n",
      "   @ ~/Documents/Python/PRJ/jl_notebook_cell_df34fa98e69747e1a8f8a730347b8e2f_X13sZmlsZQ==.jl:1"
     ]
    }
   ],
   "source": [
    "A3_tensor = reshape(M3.U, 1, 2 , 1)"
   ]
  },
  {
   "cell_type": "code",
   "execution_count": null,
   "metadata": {},
   "outputs": [
    {
     "data": {
      "text/plain": [
       "2×2×1 Array{Float64, 3}:\n",
       "[:, :, 1] =\n",
       " 1.0  0.0\n",
       " 0.0  1.0"
      ]
     },
     "metadata": {},
     "output_type": "display_data"
    }
   ],
   "source": [
    "#A3_tensor = Array{Float64}(undef, 2, 2, 1)\n",
    "\n",
    "#A3_tensor[:, 1, 1] = M3.U[:, 1]  # physical index = 0\n",
    "#A3_tensor[:, 2, 1] = M3.U[:, 2]  # physical index = 1\n",
    "\n",
    "#display(A3_tensor)"
   ]
  },
  {
   "cell_type": "code",
   "execution_count": 8,
   "metadata": {},
   "outputs": [
    {
     "data": {
      "text/plain": [
       "1×8 Matrix{Float64}:\n",
       " 0.57735  0.0  0.0  0.0  0.57735  0.0  0.0  0.57735"
      ]
     },
     "metadata": {},
     "output_type": "display_data"
    }
   ],
   "source": [
    "using ITensors\n",
    "\n",
    "# Define the physical indices for each site (dimension 2)\n",
    "s1 = Index(2, \"s1\")\n",
    "s2 = Index(2, \"s2\")\n",
    "s3 = Index(2, \"s3\")\n",
    "\n",
    "# Define the bond indices (internal virtual links between tensors)\n",
    "l1 = Index(2, \"l1\")\n",
    "l2 = Index(2, \"l2\")\n",
    "# A1: (1, physical, bond) → only indices s1 and l1\n",
    "\n",
    "\n",
    "A1 = ITensor(s1, l1)\n",
    "for i in 1:2, j in 1:2\n",
    "    A1[s1 => i, l1 => j] = A1_tensor[1, i, j]\n",
    "end\n",
    "\n",
    "# A2: (bond, physical, bond)\n",
    "A2 = ITensor(l1, s2, l2)\n",
    "for i in 1:2, j in 1:2, k in 1:2\n",
    "    A2[l1 => i, s2 => j, l2 => k] = A2_tensor[i, j, k]\n",
    "end\n",
    "\n",
    "# A3: (bond, physical, 1) → just l2 and s3\n",
    "A3 = ITensor(l2, s3)\n",
    "for i in 1:2, j in 1:2\n",
    "    A3[l2 => i, s3 => j] = A3_tensor[i, j, 1]\n",
    "end\n",
    "\n",
    "psi = A1 * A2 * A3  \n",
    "\n",
    "C_reconstructed = reshape(array(psi), 1, 8)"
   ]
  },
  {
   "cell_type": "code",
   "execution_count": null,
   "metadata": {},
   "outputs": [],
   "source": []
  }
 ],
 "metadata": {
  "kernelspec": {
   "display_name": "Julia 1.11.4",
   "language": "julia",
   "name": "julia-1.11"
  },
  "language_info": {
   "file_extension": ".jl",
   "mimetype": "application/julia",
   "name": "julia",
   "version": "1.11.4"
  }
 },
 "nbformat": 4,
 "nbformat_minor": 2
}
